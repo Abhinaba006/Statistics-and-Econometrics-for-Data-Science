{
  "nbformat": 4,
  "nbformat_minor": 0,
  "metadata": {
    "colab": {
      "name": "Heteroscedasticty.ipynb",
      "provenance": []
    },
    "kernelspec": {
      "name": "python3",
      "display_name": "Python 3"
    }
  },
  "cells": [
    {
      "cell_type": "markdown",
      "metadata": {
        "id": "pRSRefZDsF_w"
      },
      "source": [
        "In classical linear regression models, one of the assumptions we make is that the variance of disturbance(error) term is constant and this assumption is known as ***Homoscedasticity*** [ie. equal(homo) spread(scedasticity)].  \n",
        "\n",
        "If $ \\epsilon $ is the error term, then $ E(\\epsilon_i^2) = \\sigma^2$  where $\\sigma$ is the standard deviation.\n",
        "\n",
        " The violation of this assumption is ***Heteroscedasticity***.  \n",
        " Some of the causes of Heteroscedasticity include,\n",
        "*   Presence of outliers in the observations (stock prices)\n",
        "*   Incorrect transformation of data used for the regression model\n",
        "*   When regression model is itself wrongly specified\n",
        "*   Skewness in distribution of regressor variables. For example, economic variables like income are unevenly distibuted  \n",
        "\n",
        "In the presence of heteroscedasticity, the estimators are no longer efficient and hypothesis tests(like t-test, F-test) become invalid. So, it is essential to detect heteroscedasticity and adjust for it.\n",
        "\n",
        "\n",
        "\n",
        "\n"
      ]
    },
    {
      "cell_type": "code",
      "metadata": {
        "id": "WqMtw6in-wiZ"
      },
      "source": [
        "#importing packages\n",
        "import numpy as np\n",
        "import matplotlib.pyplot as plt\n",
        "from statsmodels.stats.diagnostic import het_goldfeldquandt\n",
        "from statsmodels.stats.diagnostic import het_breuschpagan\n",
        "import statsmodels.api as sm\n",
        "\n",
        "%matplotlib inline\n"
      ],
      "execution_count": 24,
      "outputs": []
    },
    {
      "cell_type": "markdown",
      "metadata": {
        "id": "dCyXeANjBXXw"
      },
      "source": [
        "Firstly, let's create a heteroscedastic dataset and plot it to see how it looks like!"
      ]
    },
    {
      "cell_type": "code",
      "metadata": {
        "id": "aw0dvOhbBcGO"
      },
      "source": [
        "#setting sample size\n",
        "size = 100\n",
        "\n",
        "#generating a random sample for the independent variable x\n",
        "x = np.random.uniform(low = 0, high = 100, size = size)\n",
        "\n",
        "#generating the error term which increases with increasing values of x\n",
        "u = np.random.rand(size) * x\n",
        "\n",
        "#generating the dependent variable y using a arbitrary expression\n",
        "y = 5 + 1.1*x + u"
      ],
      "execution_count": 15,
      "outputs": []
    },
    {
      "cell_type": "code",
      "metadata": {
        "colab": {
          "base_uri": "https://localhost:8080/",
          "height": 296
        },
        "id": "hR6MD5YRGKPf",
        "outputId": "f3b011f7-b77b-47e6-cd60-c7d64ead8cbd"
      },
      "source": [
        "#ploting the data\n",
        "plt.scatter(x,y)\n",
        "plt.xlabel('X')\n",
        "plt.ylabel('y')"
      ],
      "execution_count": 19,
      "outputs": [
        {
          "output_type": "execute_result",
          "data": {
            "text/plain": [
              "Text(0, 0.5, 'y')"
            ]
          },
          "metadata": {
            "tags": []
          },
          "execution_count": 19
        },
        {
          "output_type": "display_data",
          "data": {
            "image/png": "[encoded data removed]",
            "text/plain": [
              "<Figure size 432x288 with 1 Axes>"
            ]
          },
          "metadata": {
            "tags": [],
            "needs_background": "light"
          }
        }
      ]
    },
    {
      "cell_type": "markdown",
      "metadata": {
        "id": "rFImYfHeIr-h"
      },
      "source": [
        "We can clearly see that the y value varies a lot for larger values of x  \n",
        "Although we now detected heteroscedasticity by visualising the data, there are some standard statistical tests to detect heteroscedasticity.  \n",
        "We will now use the functions from [statsmodels](https://www.statsmodels.org/dev/diagnostic.html) library to perform *Breusch-Pagan test* and *Goldfeld-Quandt test*."
      ]
    },
    {
      "cell_type": "code",
      "metadata": {
        "colab": {
          "base_uri": "https://localhost:8080/"
        },
        "id": "EYQO8Z1OGNFI",
        "outputId": "40a96931-9264-44c3-9988-b5cfaeddc1fb"
      },
      "source": [
        "#performing OLS fit as residual values are needed for Breusch-Pagan test\n",
        "model = sm.OLS(y,x).fit()\n",
        "\n",
        "#extracting residual values from the fitted model\n",
        "residuals = model.resid\n",
        "\n",
        "#performing Breusch-Pagan test\n",
        "bp_test = het_breuschpagan(residuals, x.reshape(-1,1))\n",
        "\n",
        "#zipping and printing the results \n",
        "labels = ['LM Statistic', 'LM-Test p-value', 'F-Statistic', 'F-Test p-value']\n",
        "print(dict(zip(labels, bp_test)))\n"
      ],
      "execution_count": 40,
      "outputs": [
        {
          "output_type": "stream",
          "text": [
            "{'LM Statistic': 54.2706865809935, 'LM-Test p-value': nan, 'F-Statistic': 117.49133257892424, 'F-Test p-value': 1.6286496770569402e-18}\n"
          ],
          "name": "stdout"
        }
      ]
    },
    {
      "cell_type": "markdown",
      "metadata": {
        "id": "v5g6Y8By3EPv"
      },
      "source": [
        ""
      ]
    }
  ]
}