{
 "cells": [
  {
   "cell_type": "markdown",
   "metadata": {},
   "source": [
    "# Maximum Likelihood Estimation"
   ]
  },
  {
   "cell_type": "markdown",
   "metadata": {},
   "source": [
    "In this notebook, we will see what Maximum Likelihood Estimation is and how it can be used. \n",
    "\n",
    "**Contents**:\n",
    "* **[Introduction](#introduction)**\n",
    "* **[Mathematical Formulation](#Mathematical-Formulation)**\n",
    "* **[Difference between Probability and Likelihood](#Difference-between-Probability-and-Likelihood)**\n",
    "* **[Probability Distributions, Estimations and Codes](#Probability-Distributions,-Estimations-and-Codes)**\n",
    "    * **[Bernoulli Distribution](#Bernoulli-Distribution)**\n",
    "    * **[Binomial Distribution](#Binomial-Distribution)**\n",
    "    * **[Poisson Distribution](#Poisson-Distribution)**\n",
    "    * **[Exponential Distribution](#Exponential-Distribution)**\n",
    "    * **[Normal Distribution](#Normal-Distribution)**\n",
    "* **[Summary](#Summary)**\n",
    "* **[References](#References)**"
   ]
  },
  {
   "cell_type": "markdown",
   "metadata": {},
   "source": [
    "---"
   ]
  },
  {
   "cell_type": "markdown",
   "metadata": {},
   "source": [
    "# Introduction"
   ]
  },
  {
   "cell_type": "markdown",
   "metadata": {},
   "source": [
    "We often need to study populations for various purposes such as understanding its characteristics, for finding patterns and to devise better solutions using these information. However, for large populations, it is neither possible nor feasible to examine each individual in a population to understand these properties and characteristics. Hence, the statisticians make use of random sampling. The measurements are, therefore, made on much smaller samples for analysis and drawing conclusions about the population.\n",
    "\n",
    "Analysing the data becomes a lot more easier if we are able to identify distribution of the population, using the sample. Any probability distribution is uniquely defined by some parameters. Therefore, if we somehow find/identify these parameters, we can easily study the population. This process of finding parameters for the population by analysing the samples from that population is called **estimation**.\n",
    "\n",
    "We can say that whenever our estimation is good, on random sampling again, we are **likelier** to obtain a sample which would be very similar to our original sample. In other words, more the chances of getting a similar sample with our estimates of the parameters, more is the **likelihood** that our estimation is satisfactorily correct.\n",
    "\n",
    "**Maximum likelihood estimation** is basically the process of estimating these parameters based on our sample, such that the likelihood of the population to be defined with those parameters is maximised.\n",
    "\n",
    "---"
   ]
  },
  {
   "cell_type": "markdown",
   "metadata": {},
   "source": [
    "# Mathematical Formulation"
   ]
  },
  {
   "cell_type": "markdown",
   "metadata": {},
   "source": [
    "Now that we have a gist of the problem we are trying to solve here, let's define it more formally.\n",
    "\n",
    "Suppose we have obtained a random sample from our population, given by $x_1, \\ x_2, \\ x_3, \\ ..., \\ x_n$. <br>\n",
    "Now, using this sample, we want to assume some distribution for our population. Let that distribution be defined as $D(\\theta)$, <br>\n",
    "where $\\theta = [\\theta_1 \\ \\theta_2 \\ \\theta_3 \\ ... \\ \\theta_k]^T$ is the vector defining the parameters for our assumed distribution $D$. \n",
    "\n",
    "Now, using our random sample, we want to determine the values of $\\theta$ which will make our distribution $D$ most likely to define our population. In order to quantify how likely it is for our assumed distribution $D$ with its estimated parameters $\\theta$ to define the population, we make use of **likelihood function**.\n",
    "\n",
    "We define the likelihood function,\n",
    "    $L : \\{\\theta, \\ x_1, \\ x_2, \\ x_3, \\ ..., \\ x_n\\} \\longrightarrow \\rm I\\!R_0^+$ as follows: <br>"
   ]
  },
  {
   "cell_type": "markdown",
   "metadata": {},
   "source": [
    "$$\n",
    "    \\begin{aligned}\n",
    "        L(\\theta \\ | \\ x_1, \\ x_2, \\ x_3, \\ ..., \\ x_n) \n",
    "            & = P(X_1 = x_1,X_2 = x_2,X_3 = x_3, \\ ..., \\ X_n = x_n) \\\\\n",
    "        & = f(x_1 | \\theta)\\ .\\ f(x_2 | \\theta)\\ .\\ f(x_3 | \\theta)\\ .\\ ...\\ .\\ f(x_n | \\theta) \\\\\n",
    "        & = \\prod_{i = 1}^n f(x_i | \\theta)\n",
    "    \\end{aligned}\n",
    "$$"
   ]
  },
  {
   "cell_type": "markdown",
   "metadata": {},
   "source": [
    "Here, $f$ is the probability mass/density function for our distribution $D$.\n",
    "\n",
    "**Note**: Since the sample is selected randomly from a large population, we can assume that selection of a datum into the sample is **independent** from selection of any other datum. This assumption of independence allows us to multiply the probability mass/density functions for each datum to calculate the overall likelihood."
   ]
  },
  {
   "cell_type": "markdown",
   "metadata": {},
   "source": [
    "The **goal** of **Maximum Likelihood Estimation** is to find $\\theta$ such that the likelihood function value gets maximised. For any likelihood function which is **concave**, or **negatively convexed**, we can find its maximum likelihood estimate by equating the first partial derivatives w.r.t. each parameter $\\theta_j, \\forall j \\in \\{1, 2, 3, \\ ..., \\ k\\}$ to $0$. As we will see later, for commonly occuring probability distributions, the likelihood functions are indeed concave."
   ]
  },
  {
   "cell_type": "markdown",
   "metadata": {},
   "source": [
    "$$\n",
    "    \\begin{aligned}\n",
    "        \\therefore \\ \\theta \n",
    "            & = \\text{arg} \\ \\max_{\\theta \\ \\in \\ \\Theta} \\  L(\\theta \\ | \\ x_1, x_2, x_3, \\ ..., \\ x_n) \\\\\n",
    "        \\Longrightarrow \\ \\theta_j \n",
    "            & = \\text{arg} \\left( \\frac{\\partial L}{\\partial \\theta_j} = 0 \\right) \n",
    "            \\ \\forall \\ j \\in \\{1, \\ 2, \\ 3, \\ ..., \\ k\\} \\ | \\ \\text{L is concave}\n",
    "    \\end{aligned}\n",
    "$$"
   ]
  },
  {
   "cell_type": "markdown",
   "metadata": {},
   "source": [
    "Equating partial derivatives to $0$ would be difficult here because product of probability mass/density function for all the elements of the sample would require extended application of chain rule.\n",
    "Hence, we make use of **logarithm function**. Logarithm function is monotonically strictly increasing function. Therefore, wherever $L$ will maximise, at the same parameter values, $\\log(L)$ will also maximize. Therefore, instead of maximising the likelihood estimation, we maximise the **log likelihood estimation**."
   ]
  },
  {
   "cell_type": "markdown",
   "metadata": {},
   "source": [
    "$$\n",
    "\\begin{aligned}\n",
    "    L(\\theta \\ | \\ x_1, x_2, x_3, \\ ..., \\ x_n) & = \\prod_{i = 1}^n f(x_i \\ | \\ \\theta) \\\\\n",
    "    \\Longrightarrow \\log\\left(L(\\theta \\ | \\ x_1, x_2, x_3, \\ ..., \\ x_n)\\right) \n",
    "        & = \\log\\left(\\prod_{i = 1}^n f(x_i \\ | \\ \\theta)\\right) \\\\\n",
    "    & = \\sum_{i = 1}^n \\log\\left(f(x_i \\ | \\ \\theta)\\right) \\\\\n",
    "    \\Longrightarrow \\frac{\\partial}{\\partial \\theta_j} \n",
    "        \\log\\left(L(\\theta \\ | \\ x_1, x_2, x_3, \\ ..., \\ x_n)\\right)\n",
    "        & = \\sum_{i = 1}^n \\frac{\\partial}{\\partial \\theta_j} \\log\\left(f(x_i \\ | \\ \\theta)\\right),\n",
    "        \\ \\forall \\ j \\in \\{1, 2, 3, \\ ..., \\ k\\} \\\\\n",
    "    & = \\sum_{i = 1}^n \\frac{1}{f(x_i \\ | \\ \\theta)} \\frac{\\partial}{\\partial \\theta_j} f(x_i \\ | \\ \\theta),\n",
    "        \\ \\forall \\ j \\in \\{1, 2, 3, \\ ..., \\ k\\} \\\\\n",
    "    \\therefore \\ \\text{for concave likelihood functions}, \\ \\theta_j \n",
    "        & = \\text{arg} \\left(\\sum_{i = 1}^n \\frac{1}{f(x_i \\ | \\ \\theta)} \\frac{\\partial}{\\partial \\theta_j}\n",
    "        f(x_i \\ | \\ \\theta) = 0\\right), \\ \\forall \\ j \\in \\{1, 2, 3, \\ ..., \\ k\\} \\\\\n",
    "\\end{aligned}\n",
    "$$"
   ]
  },
  {
   "cell_type": "markdown",
   "metadata": {},
   "source": [
    "Now that we have seen the way to maximise the likelihood of estimation, let's do this for some probability distributions in the next section.\n",
    "\n",
    "---"
   ]
  },
  {
   "cell_type": "markdown",
   "metadata": {},
   "source": [
    "# Difference between Probability and Likelihood"
   ]
  },
  {
   "cell_type": "markdown",
   "metadata": {},
   "source": [
    "In the beginning, one may think probability and likelihood to be the same thing with only thier names different. This is primarily because the mathematical formula for both of these entities are quite similar. So let's see how likelihood is different from probability. \n",
    "\n",
    "Roughly speaking, **probability** tells you the **possibility of observing specific results** or outcomes given a **particular distribution**. When we compute probability, we are already aware about the distribution parameters and hence the **distribution is fixed**. Therefore, with the help of probability, we are able to determine how probable it is to obtain the results in consideration for an event.\n",
    "\n",
    "On the other hand, in likelihood, we deal with the reverse scenario. Likelihood tells you the possibility that something that you have observed is specifically distributed. This means, for the case of **likelihood** calculation, we already have our **results fixed**. In this case, the **the distribution parameters** play the role of **variables**. Therefore, using our results, we try to find how well some particular distribution fits on our results.\n",
    "\n",
    "Mathematically, <br>\n",
    "- Probability is described by a function $P : \\{x_1, \\ x_2, \\ x_3, \\ ..., \\ x_n, \\theta\\} \\longrightarrow [0, 1]$, computed as $P(x_1, \\ x_2, \\ x_3, \\ ..., \\ x_n \\ | \\ \\theta)$\n",
    "- Whereas, likelihood can be written as a function $L : \\{x_1, \\ x_2, \\ x_3, \\ ..., \\ x_n, \\theta\\} \\longrightarrow \\rm I\\!R_0^+$, computed as $L(\\theta \\ | \\ x_1, \\ x_2, \\ x_3, \\ ..., \\ x_n)$\n",
    "\n",
    "where, $x_1, \\ x_2, \\ x_3, \\ ..., \\ x_n$ are the results/observations, and $\\theta$ is the vector of distribution parameters"
   ]
  },
  {
   "cell_type": "markdown",
   "metadata": {},
   "source": [
    "Let's consider an example to understand this better. <br>\n",
    "Suppose we are given an exponential distribution with its rate, i.e., $\\lambda$ equal to $2$. This is how the probability density function for this distribution will look:"
   ]
  },
  {
   "cell_type": "code",
   "execution_count": 1,
   "metadata": {},
   "outputs": [],
   "source": [
    "# make matplotlib plots plotted inline with the notebook\n",
    "%matplotlib inline\n",
    "\n",
    "# import packages\n",
    "import matplotlib.pyplot as plt\n",
    "import numpy as np\n",
    "import scipy.stats as ss"
   ]
  },
  {
   "cell_type": "code",
   "execution_count": 2,
   "metadata": {},
   "outputs": [
    {
     "data": {
      "image/png": "[encoded data removed]",
      "text/plain": [
       "<Figure size 432x288 with 1 Axes>"
      ]
     },
     "metadata": {
      "needs_background": "light"
     },
     "output_type": "display_data"
    }
   ],
   "source": [
    "# find 10000 exponentially distributed values between 0 and 3\n",
    "rate = 2 # lambda\n",
    "x = np.linspace(0, 3, 10000) # 10000 uniformly spaced values between 0 and 3\n",
    "y_pdf = ss.expon.pdf(x, scale=(1 / rate))\n",
    "# scale is inverse of lambda, pdf function returns pdf values\n",
    "\n",
    "# plot the values to visualise the distribution\n",
    "plt.plot(x, y_pdf) # plot x againtst y values\n",
    "plt.title('Plot of exponential distribution with λ = 2') # give title\n",
    "plt.ylabel('Probability Density Function') # give y axis label\n",
    "plt.xlabel('Random variable') # give x axis label\n",
    "plt.show() # show the plot"
   ]
  },
  {
   "cell_type": "markdown",
   "metadata": {},
   "source": [
    "Now suppose we want to know how likely is it that we'll find a waiting time, $x$, between two successive events as $x \\geq 0.75 \\wedge x \\leq 1.5$ with this distribution. For that, we calculate the probability as $P(0.75 \\leq x \\leq 1.5 \\ | \\ \\lambda = 2)$. This will be same as finding area under the curve."
   ]
  },
  {
   "cell_type": "code",
   "execution_count": 3,
   "metadata": {},
   "outputs": [
    {
     "data": {
      "image/png": "[encoded data removed]",
      "text/plain": [
       "<Figure size 432x288 with 1 Axes>"
      ]
     },
     "metadata": {
      "needs_background": "light"
     },
     "output_type": "display_data"
    }
   ],
   "source": [
    "# define the bounds\n",
    "lower_bound = 0.75\n",
    "upper_bound = 1.5\n",
    "\n",
    "# get indices in x with values within these bounds\n",
    "mask = (x >= lower_bound) & (x <= upper_bound)\n",
    "x_area = x[mask] # get values of x which are between the bounds\n",
    "y_area = y_pdf[mask] # get corresponding values for the PDF function\n",
    "\n",
    "plt.plot(x, y_pdf); # plot the PDF\n",
    "plt.fill_between(x_area, y_area, 0, alpha=0.5) # plot area under the curve\n",
    "plt.title('Probability that x is between 0.75 and 1.5, when λ = 2')\n",
    "plt.ylabel('Probability Density Function')\n",
    "plt.xlabel('Random variable')\n",
    "plt.show()"
   ]
  },
  {
   "cell_type": "markdown",
   "metadata": {},
   "source": [
    "Now, this area, when calculated, will be equal to equal to $\\text{CDF}(1.5) - \\text{CDF}(0.75)$, which is equal to 0.2492 (approx.)."
   ]
  },
  {
   "cell_type": "code",
   "execution_count": 4,
   "metadata": {},
   "outputs": [
    {
     "data": {
      "text/plain": [
       "0.2492363925925849"
      ]
     },
     "execution_count": 4,
     "metadata": {},
     "output_type": "execute_result"
    }
   ],
   "source": [
    "# code to find the probability value:\n",
    "ss.expon.cdf(upper_bound) - ss.expon.cdf(lower_bound)"
   ]
  },
  {
   "cell_type": "markdown",
   "metadata": {},
   "source": [
    "In this case, if you would see, we had the value of the distribution parameter, that is $\\lambda$ already fixed to $2$. And using those fixed values, we calculated how probable it would be to find observations between $0.75$ and $1.5$.\n",
    "\n",
    "Now, suppose we already have some results - let's say $x = 0.75$. Now using this, in case of likelihood, we want to evaluate how likely is it that this datum was obtained from a specific distribution. So let's try to first see the likelihood when $\\lambda = 2$. For that, we calculate the likelihood as: $L(\\lambda = 2 \\ | \\ x = 0.75) = \\text{pdf}(x = 0.75 \\ | \\ \\lambda = 2)$."
   ]
  },
  {
   "cell_type": "code",
   "execution_count": 5,
   "metadata": {},
   "outputs": [
    {
     "data": {
      "image/png": "[encoded data removed]",
      "text/plain": [
       "<Figure size 432x288 with 1 Axes>"
      ]
     },
     "metadata": {
      "needs_background": "light"
     },
     "output_type": "display_data"
    }
   ],
   "source": [
    "# define the observation and the rate values\n",
    "observation = 0.75\n",
    "rate = 2\n",
    "\n",
    "# compute the likelihood value\n",
    "likelihood = ss.expon.pdf(observation, scale=(1 / rate))\n",
    "\n",
    "plt.plot(x, y_pdf) # plot the PDF\n",
    "plt.plot([0, observation], [likelihood, likelihood], '-r') # plot the abscissa\n",
    "# plot the oordinate\n",
    "plt.plot([observation, observation], [0, likelihood], '-r')\n",
    "plt.plot([observation], [likelihood], 'or') # plot the point\n",
    "plt.annotate(f'({observation}, {round(likelihood, 4)})', xy=(observation, likelihood)) # annotate the point\n",
    "plt.title('Likelihood that λ = 2 when x = 0.75')\n",
    "plt.ylabel('Probability Density Function')\n",
    "plt.xlabel('Random variable')\n",
    "plt.xlim(0, 3) # define range on x axis\n",
    "plt.ylim(0, 2) # define range on y axis\n",
    "plt.show()"
   ]
  },
  {
   "cell_type": "markdown",
   "metadata": {},
   "source": [
    "In this case, we can see that likelihood came out to be a single point on the PDF function curve. Hence, the likelihood that $\\lambda = 2$ for exponential distribution when $x = 0.75$ is $0.4463$.\n",
    "\n",
    "Similarly, for $\\lambda = 0.5$, the likelihood will be: $0.3436$. <br> \n",
    "This means it is likelier that this observation has been drawn from an exponential distribution with rate $= 2$ rather than rate $= 0.5$."
   ]
  },
  {
   "cell_type": "code",
   "execution_count": 6,
   "metadata": {},
   "outputs": [
    {
     "data": {
      "image/png": "[encoded data removed]",
      "text/plain": [
       "<Figure size 432x288 with 1 Axes>"
      ]
     },
     "metadata": {
      "needs_background": "light"
     },
     "output_type": "display_data"
    }
   ],
   "source": [
    "# define the observation and the rate values\n",
    "observation = 0.75\n",
    "rate = 0.5\n",
    "\n",
    "# compute the likelihood value\n",
    "likelihood = ss.expon.pdf(observation, scale=(1 / rate))\n",
    "\n",
    "y_pdf = ss.expon.pdf(x, scale=(1 / rate)) # pdf values with scale changed\n",
    "plt.plot(x, y_pdf); # plot the PDF\n",
    "plt.plot([0, observation], [likelihood, likelihood], '-r'); # plot the abscissa\n",
    "# plot the oordinate\n",
    "plt.plot([observation, observation], [0, likelihood], '-r');\n",
    "plt.plot([observation], [likelihood], 'or'); # plot the point\n",
    "plt.annotate(f'({observation}, {round(likelihood, 4)})', xy=(observation, likelihood)); # annotate the point\n",
    "plt.title('Likelihood that λ = 0.5 when x = 0.75')\n",
    "plt.ylabel('Probability Density Function')\n",
    "plt.xlabel('Random variable')\n",
    "plt.xlim(0, 3)\n",
    "plt.ylim(0, 2)\n",
    "plt.show()"
   ]
  },
  {
   "cell_type": "markdown",
   "metadata": {},
   "source": [
    "---"
   ]
  },
  {
   "cell_type": "markdown",
   "metadata": {},
   "source": [
    "# Probability Distributions, Estimations and Codes"
   ]
  },
  {
   "cell_type": "markdown",
   "metadata": {},
   "source": [
    "Now that we know what maximum likelihood estimation is and how we are supposed to do it, let's use it to estimate distributions for samples taken from some commonly occurring probability distributions."
   ]
  },
  {
   "cell_type": "markdown",
   "metadata": {},
   "source": [
    "## Bernoulli Distribution"
   ]
  },
  {
   "cell_type": "markdown",
   "metadata": {},
   "source": [
    "Bernoulli Distribution is a **discrete** distribution which can be used to model a **single yes-no event**. An example of such an event is a coint toss. A coin can either land with heads up, or tails up. Since only two outcomes are possible in a Bernoulli trial, therefore, it has only **one parameter**, i.e., the **probability of obtaining one of the outcomes**. For the other outcome, because of the two outcomes being complementary, the probability for it to occurr is determined automatically.\n",
    "\n",
    "Mathematically, <br>\n",
    "A random variable $X$ is said to have a Bernoulli Distribution if, for $x \\in X$:"
   ]
  },
  {
   "cell_type": "markdown",
   "metadata": {},
   "source": [
    "$$\n",
    "f(x) = \\left\\{\n",
    "    \\begin{matrix}\n",
    "        p & \\text{if } x = 1 \\\\\n",
    "        1 - p & \\text{if } x = 0 \\\\\n",
    "        0 & \\text{otherwise}\n",
    "    \\end{matrix}\n",
    "\\right.\n",
    "$$"
   ]
  },
  {
   "cell_type": "markdown",
   "metadata": {},
   "source": [
    "Here, $f$ is the probability mass function, $p$ is the probability for one of the two possible outcomes to happen, $x = 1$ implies that the first outcome has successfully occurred. Therefore, when $x = 0$, the first outcome has failed to occur which implies that the second outcome has occurred. Hence, the probability mass function can be condensed to the following representation:"
   ]
  },
  {
   "cell_type": "markdown",
   "metadata": {},
   "source": [
    "$$\n",
    "    f(x) = p^x(1 - p)^{1 - x}, \\ x \\in \\{0, 1\\}\n",
    "$$"
   ]
  },
  {
   "cell_type": "markdown",
   "metadata": {},
   "source": [
    "Now let's say we have a sample, $x_1, \\ x_2, \\ x_3, \\ ..., \\ x_n$ which we have obtained supposedly from $n$ independent and identical Bernoulli trials. So, we will now need to estimate what parameter $p$, for our assumed Bernoulli Distribution, will best describe our sample. For this, we proceed onto calculating the likelihood."
   ]
  },
  {
   "cell_type": "markdown",
   "metadata": {},
   "source": [
    "$$\n",
    "\\begin{aligned}\n",
    "    L(p \\ | \\ x_1, x_2, x_3, \\ ..., \\ x_n) & = \\prod_{i = 1}^n f(x_i \\ | \\ p) \\\\\n",
    "    & = \\prod_{i = 1}^n p^{x_i}(1 - p)^{1 - x_i}\n",
    "\\end{aligned}\n",
    "$$"
   ]
  },
  {
   "cell_type": "markdown",
   "metadata": {},
   "source": [
    "Therefore, the log likelihood function would be:"
   ]
  },
  {
   "cell_type": "markdown",
   "metadata": {},
   "source": [
    "$$\n",
    "\\begin{aligned}\n",
    "    \\log L(p \\ | \\ x_1, x_2, x_3, \\ ..., \\ x_n) \n",
    "        & = \\log\\left(\\prod_{i = 1}^n p^{x_i}(1 - p)^{1 - x_i}\\right) \\\\\n",
    "    & = \\sum_{i = 1}^n \\log\\left(p^{x_i}(1 - p)^{1 - x_i}\\right) \\\\\n",
    "    & = \\sum_{i = 1}^n \\log\\left(p^{x_i}\\right) + \\sum_{i = 1}^n \\log\\left((1 - p)^{1 - x_i}\\right) \\\\\n",
    "    & = \\log(p) \\sum_{i = 1}^n x_i + \\log(1 - p) \\sum_{i = 1}^n (1 - x_i) \\\\\n",
    "    \\text{Let's consider} \\ \\frac{1}{n}\\sum_{i = 1}^n x_i \n",
    "        & = c, \\ \\text{where} \\ c \\ \\text{is a constant for a given sample, } \n",
    "        0 \\leq c \\leq 1 \\text{, independent of } p. \\\\\n",
    "    \\therefore \\log L(p \\ | \\ x_1, x_2, x_3, \\ ..., \\ x_n) \n",
    "        & = n[c\\log(p) + (1 - c)\\log(1 - p)] \\\\\n",
    "\\end{aligned}\n",
    "$$"
   ]
  },
  {
   "cell_type": "markdown",
   "metadata": {},
   "source": [
    "Let's try to visualise this function. Since $n$ will only scale the function, we can ignore it for now. Also, the surface plot did not give a representation intuitive enough that the function is concave, so we have made these plots for $c \\in \\{0.1, 0.5, 0.9\\}$ "
   ]
  },
  {
   "cell_type": "code",
   "execution_count": 7,
   "metadata": {},
   "outputs": [],
   "source": [
    "# include packages\n",
    "import numpy as np\n",
    "import matplotlib.pyplot as plt"
   ]
  },
  {
   "cell_type": "code",
   "execution_count": 8,
   "metadata": {},
   "outputs": [
    {
     "data": {
      "image/png": "[encoded data removed]",
      "text/plain": [
       "<Figure size 432x288 with 1 Axes>"
      ]
     },
     "metadata": {
      "needs_background": "light"
     },
     "output_type": "display_data"
    }
   ],
   "source": [
    "# make arrays for p and c \n",
    "p = np.linspace(0.001, 0.999, 1000)\n",
    "c_s = np.linspace(0.1, 0.9, 3)\n",
    "\n",
    "# define the figure\n",
    "fig = plt.figure()\n",
    "ax = plt.axes()\n",
    "\n",
    "# plot the log-likelihood function for each value of c\n",
    "for c in c_s:\n",
    "    # compute log-likelihood function values\n",
    "    log_likelihood = c * np.log(p) + (1 - c) * np.log(1 - p)\n",
    "    ax.plot(p, log_likelihood, label=f'c = {c}') # plot log-likelihood function\n",
    "\n",
    "plt.legend() # put legend on plot\n",
    "plt.xlabel('Probability(x = 1), p')\n",
    "plt.ylabel('Log-likelihood')\n",
    "plt.title('Log-likelihood function for Bernoulli Distribution')\n",
    "plt.show()"
   ]
  },
  {
   "cell_type": "markdown",
   "metadata": {},
   "source": [
    "Here we observe that log-likelihood function is concave and we can, therefore, perform maximum likelihood estimation by equating partial derivates of this log-likelihood function w.r.t. $p$ to be $0$.\n",
    "\n",
    "Partially differentiating log-likelihood function w.r.t. $p$, we get:"
   ]
  },
  {
   "cell_type": "markdown",
   "metadata": {},
   "source": [
    "$$\n",
    "\\begin{aligned}\n",
    "    \\frac{\\partial}{\\partial p}\\log L(p \\ | \\ x_1, x_2, x_3, \\ ..., \\ x_n)\n",
    "        & = n\\left[c \\frac{\\partial \\log(p)}{\\partial p} \n",
    "        + (1 - c) \\frac{\\partial \\log(1 - p)}{\\partial p}\\right] \\\\\n",
    "    & = n\\left[c \\frac{1}{p} - (1 - c) \\frac{1}{1 - p}\\right] \\\\\n",
    "\\end{aligned}\n",
    "$$"
   ]
  },
  {
   "cell_type": "markdown",
   "metadata": {},
   "source": [
    "Equating the partial derivative with 0, to find $p$ which gives maximum likelihood, we get:"
   ]
  },
  {
   "cell_type": "markdown",
   "metadata": {},
   "source": [
    "$$\n",
    "\\begin{aligned}\n",
    "    \\frac{\\partial}{\\partial p}\\log L(p \\ | \\ x_1, x_2, x_3, \\ ..., \\ x_n) & = 0 \\\\\n",
    "    \\Longrightarrow \\frac{c}{p} & = \\frac{1 - c}{1 - p} \\\\\n",
    "    \\Longrightarrow p & = c \\\\\n",
    "    \\therefore p & = \\frac{1}{n} \\sum_{i = 1}^n x_i = \\bar{x}\n",
    "\\end{aligned}\n",
    "$$"
   ]
  },
  {
   "cell_type": "markdown",
   "metadata": {},
   "source": [
    "Hence, we find that for **MLE of Bernoulli Distribution**, the parameter $p$ should be kept as the **mean of the sample**. Now let's demonstrate this on an example."
   ]
  },
  {
   "cell_type": "code",
   "execution_count": 9,
   "metadata": {},
   "outputs": [
    {
     "name": "stdout",
     "output_type": "stream",
     "text": [
      "[0, 0, 0, 1, 1, 0, 0, 0, 0, 0, 0, 0, 0, 0, 0, 0, 0, 0, 0, 0, 0, 1, 0, 0, 0, 0, 0, 0, 0, 0, 1, 0, 0, 1, 0, 0, 0, 0, 0, 0, 0, 1, 0, 1, 0, 0, 0, 1, 0, 1, 0, 0, 0, 1, 1, 0, 0, 0, 0, 0, 0, 0, 0, 0, 0, 0, 0, 0, 0, 1, 1, 0, 0, 0, 0, 1, 0, 0, 0, 0, 0, 0, 0, 1, 0, 0, 0, 0, 0, 0, 0, 0, 0, 0, 0, 1, 0, 0, 0, 1]\n"
     ]
    }
   ],
   "source": [
    "# Let actual distribution parameter, p, be uniformly picked between 0 and 1\n",
    "p = np.random.rand()\n",
    "\n",
    "N = [1, 10, 100, 1000] # perform MLE with these many points in samples\n",
    "sample = {} # to store the obtained samples\n",
    "\n",
    "for n in N:\n",
    "    # Simulate n identical and independent Bernoulli trials\n",
    "    sample_n = []\n",
    "    for i in range(n):\n",
    "        # perform single Bernoulli trial and add the result to sample\n",
    "        sample_n.append(np.random.binomial(n=1, p=p))\n",
    "    sample[n] = sample_n # add sample to dictionary\n",
    "print(sample[100]) # representation of a sample obtained"
   ]
  },
  {
   "cell_type": "code",
   "execution_count": 10,
   "metadata": {},
   "outputs": [
    {
     "name": "stdout",
     "output_type": "stream",
     "text": [
      "For n =    1, we estimate the parameter p to be 0.0\n",
      "For n =   10, we estimate the parameter p to be 0.3\n",
      "For n =  100, we estimate the parameter p to be 0.17\n",
      "For n = 1000, we estimate the parameter p to be 0.184\n"
     ]
    }
   ],
   "source": [
    "# Now, let's try to perform maximum likelihood estimation using these samples.\n",
    "# We saw that we estimate p to be equal to the sample mean\n",
    "for n in N:\n",
    "    p_hat = np.mean(sample[n])\n",
    "    print(f'For n = %4d, we estimate the parameter p to be {p_hat}' % n)"
   ]
  },
  {
   "cell_type": "code",
   "execution_count": 11,
   "metadata": {},
   "outputs": [
    {
     "name": "stdout",
     "output_type": "stream",
     "text": [
      "The actual value of p is 0.19661891583995317\n"
     ]
    }
   ],
   "source": [
    "# Now, let's see the actual value of p ;)\n",
    "print(f'The actual value of p is {p}')"
   ]
  },
  {
   "cell_type": "markdown",
   "metadata": {},
   "source": [
    "From this example, we see that with the help of maximum likelihood estimation, for large samples, we are able to estimate the values of the distribution parameter reasonably well.\n",
    "\n",
    "---"
   ]
  },
  {
   "cell_type": "markdown",
   "metadata": {},
   "source": [
    "## Binomial Distribution"
   ]
  },
  {
   "cell_type": "markdown",
   "metadata": {},
   "source": [
    "Binomial Distribution is a discrete probability distribution which models the **number of successes** in an experiment in which $n$ **Bernoulli trials** were conducted successively and independently, such that probability for success in any of these trials is $p$. For example, number of heads obtained in $10$ coin tosses will be binomially distributed.\n",
    "\n",
    "Formally,\n",
    "For a random variable $X \\sim \\text{Bin}(n, p)$ if for $x \\in X$, we have:"
   ]
  },
  {
   "cell_type": "markdown",
   "metadata": {},
   "source": [
    "$$\n",
    "f(x) = \\left\\{\n",
    "    \\begin{matrix} \n",
    "    \\frac{n!}{(n - x)! x!} p^x (1 - p)^{n - x} \n",
    "            & \\text{if } x \\in \\{z \\ : \\ z \\in Z \\ \\wedge \\ 0 \\leq z \\leq n\\} \\\\\n",
    "    0 & \\text{otherwise }\n",
    "    \\end{matrix}\n",
    "\\right.\n",
    "$$"
   ]
  },
  {
   "cell_type": "markdown",
   "metadata": {},
   "source": [
    "where, $f$ is the probability mass function and $x_i$ is the number of successes in $i^{th}$ Bernoulli trial.\n",
    "\n",
    "Now suppose we have a sample $x = [x_1 \\ x_2 \\ x_3 \\ ... \\ x_m]^T$, obtained after performing identical experiments $m$ times, and we assume it to come from a binomial distribution. Therefore, its likelihood function and log-likelihood function will be defined as:"
   ]
  },
  {
   "cell_type": "markdown",
   "metadata": {},
   "source": [
    "$$\n",
    "\\begin{aligned}\n",
    "    L(p \\ | \\ n, x) & = \\prod_{i = 1}^m f(x_i \\ | \\ n, p) \\\\\n",
    "    & = \\prod_{i = 1}^m \\frac{n!}{(n - x_i)! x_i!} p^{x_i} (1 - p)^{n - x_i} \\\\\n",
    "    \\therefore \\log L(p \\ | \\ n, x) \n",
    "        & = \\log\\left(\\prod_{i = 1}^m \\frac{n!}{(n - x_i)! x_i!} p^{x_i} (1 - p)^{n - x_i}\\right) \\\\\n",
    "    & = \\sum_{i = 1}^m \\log\\left(\\frac{n!}{(n - x_i)! x_i!} p^{x_i} (1 - p)^{n - x_i}\\right) \\\\\n",
    "    & = \\sum_{i = 1}^m \\log\\left(\\frac{n!}{(n - x_i)! x_i!}\\right) \n",
    "        + \\sum_{i = 1}^m \\log\\left(p^{x_i} (1 - p)^{n - x_i}\\right) \\\\\n",
    "    & = \\sum_{i = 1}^m \\log\\left(\\frac{n!}{(n - x_i)! x_i!}\\right) \n",
    "        + \\log(p) \\sum_{i = 1}^m x_i + \\log(1 - p) \\sum_{i = 1}^m (n - x_i) \\\\\n",
    "    \\text{Let's consider} \\ \\frac{1}{m}\\sum_{i = 1}^m x_i \n",
    "        & = c, \\ \\text{where} \\ c \\ \\text{is a constant for a given sample, }\n",
    "        0 \\leq c \\leq n \\text{, independent of } p. \\\\\n",
    "    \\therefore \\log L(p \\ | \\ n, x) \n",
    "        & = \\sum_{i = 1}^m \\log\\left(\\frac{n!}{(n - x_i)! x_i!}\\right)\n",
    "            + m[c\\log(p) + (n - c)\\log(1 - p)] \\\\\n",
    "\\end{aligned}\n",
    "$$"
   ]
  },
  {
   "cell_type": "markdown",
   "metadata": {},
   "source": [
    "Since $\\sum_{i = 1}^m \\log\\left(\\frac{n!}{(n - x_i)! x_i!}\\right)$ is constant for any given sample, and $m$ would only scale the rest of the terms, we can drop these two things while log-likelihood maximisation.\n",
    "Let $\\log L'(p \\ | \\ n, x) = c\\log(p) + (n - c)\\log(1 - p)$.\n",
    "\n",
    "Therefore, we have:"
   ]
  },
  {
   "cell_type": "markdown",
   "metadata": {},
   "source": [
    "$$\n",
    "\\begin{aligned}\n",
    "    \\frac{\\partial}{\\partial p} \\log L'(p \\ | \\ n, x) \n",
    "        & = c \\frac{\\partial}{\\partial p} \\log(p) + (n - c) \\frac{\\partial}{\\partial p} \\log(1 - p) \\\\\n",
    "    & = \\frac{c}{p} - \\frac{(n - c)}{1 - p} \\\\\n",
    "    \\Longrightarrow \\frac{\\partial^2}{\\partial p^2} \\log L'(p \\ | \\ n, x)\n",
    "        & = - \\frac{c}{p^2} - \\frac{(n - c)}{{(1 - p)}^2} < 0 \\ \n",
    "        \\forall \\ p \\ \\in \\ (0, 1), \\text{ implying concavity} \\\\\n",
    "    \\therefore \\text{maxima of } L' \\text{ will be when } \n",
    "        \\frac{\\partial}{\\partial p} \\log L'(p \\ | \\ n, x) & = 0 \\\\\n",
    "    \\Longrightarrow \\frac{c}{p} & = \\frac{(n - c)}{1 - p} \\\\\n",
    "    \\Longrightarrow p & = \\frac{c}{n} \\\\\n",
    "    \\Longrightarrow p & = \\frac{1}{mn} \\sum_{i = 1}^m x_i\n",
    "\\end{aligned}\n",
    "$$"
   ]
  },
  {
   "cell_type": "markdown",
   "metadata": {},
   "source": [
    "Therefore, for **MLE of Binomial Distribution**, the parameter $p$ should be kept as the **mean of proportion of successes across all Binomial trials**. Let's see an example for the same."
   ]
  },
  {
   "cell_type": "code",
   "execution_count": 12,
   "metadata": {},
   "outputs": [],
   "source": [
    "# import packages\n",
    "import numpy as np\n",
    "import matplotlib.pyplot as plt\n",
    "import scipy"
   ]
  },
  {
   "cell_type": "code",
   "execution_count": 13,
   "metadata": {},
   "outputs": [
    {
     "name": "stdout",
     "output_type": "stream",
     "text": [
      "[12, 13, 18, 17, 18, 17, 13, 16, 13, 15, 18, 14, 18, 19, 20, 18, 15, 14, 12, 11, 16, 18, 14, 15, 15, 21, 14, 14, 10, 16, 21, 13, 12, 13, 19, 14, 14, 18, 18, 14, 18, 10, 15, 21, 22, 15, 15, 16, 19, 11, 15, 11, 15, 23, 20, 18, 21, 10, 15, 16, 13, 16, 18, 13, 16, 18, 22, 14, 20, 10, 16, 11, 17, 22, 22, 13, 13, 15, 11, 13, 11, 13, 19, 14, 13, 18, 17, 13, 18, 17, 13, 20, 15, 13, 17, 21, 21, 12, 20, 19]\n"
     ]
    }
   ],
   "source": [
    "# Let actual distribution parameter, p, be uniformly picked between 0 and 1\n",
    "p = np.random.rand()\n",
    "\n",
    "# Now, n has to be fixed, but it can be anything. So let n be 50\n",
    "n = 50\n",
    "\n",
    "# Now, suppose we conduct the Binomial trials m times, Let M = m_i for ith trial\n",
    "M = [1, 10, 100, 1000] # perform MLE with these many points in samples\n",
    "\n",
    "sample = {} # to store the obtained samples\n",
    "\n",
    "for m in M:\n",
    "    # Simulate m identical and independent Binomial trials\n",
    "    sample_m = []\n",
    "    for i in range(m):\n",
    "        # perform n Bernoulli trials and add the result to sample\n",
    "        sample_m.append(np.random.binomial(n=n, p=p))\n",
    "    sample[m] = sample_m # add sample to dictionary\n",
    "print(sample[100]) # a typical sample"
   ]
  },
  {
   "cell_type": "code",
   "execution_count": 14,
   "metadata": {},
   "outputs": [
    {
     "name": "stdout",
     "output_type": "stream",
     "text": [
      "For m =    1, we estimate the parameter p to be 0.38\n",
      "For m =   10, we estimate the parameter p to be 0.284\n",
      "For m =  100, we estimate the parameter p to be 0.3166\n",
      "For m = 1000, we estimate the parameter p to be 0.31082\n"
     ]
    }
   ],
   "source": [
    "# Now, let's try to perform maximum likelihood estimation using these samples.\n",
    "# We saw that we estimate p to be equal to the mean of total number of successes\n",
    "\n",
    "for m in M:\n",
    "    p_hat = np.mean(sample[m]) / n\n",
    "    print(f'For m = %4d, we estimate the parameter p to be {p_hat}' % m)"
   ]
  },
  {
   "cell_type": "code",
   "execution_count": 15,
   "metadata": {},
   "outputs": [
    {
     "data": {
      "image/png": "[encoded data removed]",
      "text/plain": [
       "<Figure size 432x288 with 1 Axes>"
      ]
     },
     "metadata": {
      "needs_background": "light"
     },
     "output_type": "display_data"
    }
   ],
   "source": [
    "# Plot histogram for sample with 1000 Binomial experiments\n",
    "\n",
    "# plot the histogram\n",
    "plt.hist(sample[1000], bins=n, range=(0, n), label='Histogram for sample')\n",
    "\n",
    "# Plot the distribution\n",
    "# find nPx for all values of x\n",
    "x = np.linspace(0, n, num=(n + 1))\n",
    "n_s = n * np.ones(n + 1)\n",
    "perms = scipy.special.comb(n_s, x) # calculate nPx\n",
    "\n",
    "# calculate probabilities - p^x * (1 - p)^(n - x)\n",
    "p_hat = np.mean(sample[1000]) / n\n",
    "probs = (p_hat ** x) * ((1 - p_hat) ** (n - x))\n",
    "y = np.multiply(perms, probs) # multiply perms with probs\n",
    "\n",
    "# scale y in range of sample counts\n",
    "y = y / np.max(y) * scipy.stats.mode(sample[1000]).count[0]\n",
    "\n",
    "plt.plot(x, y, label='Estimated Binomial Distribution (scaled)') \n",
    "plt.title('Histogram to show distribution of sample')\n",
    "plt.xlabel('Value of x observed')\n",
    "plt.ylabel('Counts')\n",
    "plt.legend(bbox_to_anchor=(1.05, 1), loc='best') # put legend outside the plot\n",
    "plt.show()"
   ]
  },
  {
   "cell_type": "markdown",
   "metadata": {},
   "source": [
    "Hence, we see that the binomial distribution with the value of its parameter that we calculated can estimate the sample well."
   ]
  },
  {
   "cell_type": "code",
   "execution_count": 16,
   "metadata": {},
   "outputs": [
    {
     "name": "stdout",
     "output_type": "stream",
     "text": [
      "The actual value of p is 0.3106150407296725\n"
     ]
    }
   ],
   "source": [
    "# Now, let's see the actual value of p\n",
    "print(f'The actual value of p is {p}')"
   ]
  },
  {
   "cell_type": "markdown",
   "metadata": {},
   "source": [
    "Contrary to the example in Bernoulli distribution, we see that Binomial distribution parameter, $p$, can be estimated with decent accuracy even if we do not have a lot of points in the sample, given by $m$, provided our sample has been taken from results of large number of Bernoulli trials, $n$."
   ]
  },
  {
   "cell_type": "markdown",
   "metadata": {},
   "source": [
    "## Poisson Distribution"
   ]
  },
  {
   "cell_type": "markdown",
   "metadata": {},
   "source": [
    "Poisson distribution is used to model the **number of occurrences** of any event which has a **constant mean rate** and whose occurrence is **independent of the last occurrence**, in a **fixed span** of quantifiable entity such as time, distance, area, volume etc. For example, the number of structural defects found per volume of an engineering material, or the number of calls received in an hour such that the average number of calls received in a day is usually the same.\n",
    "\n",
    "The probability mass function for Poisson distribution is given as:\n",
    "$$\n",
    "f(k \\ | \\ \\lambda) = \n",
    "\\left\\{\n",
    "    \\begin{matrix}\n",
    "        \\frac{\\lambda^k e^{-\\lambda}}{k!} & k \\in Z^+_0 \\\\\n",
    "        0 & \\text{otherwise} \\\\\n",
    "    \\end{matrix}\n",
    "\\right.    \n",
    "$$\n",
    "where $k$ determines the number of occurrences of an event in a fixed span which has a parameter, expected number of occurrences in that span, given by $\\lambda$."
   ]
  },
  {
   "cell_type": "markdown",
   "metadata": {},
   "source": [
    "Therefore, if we have a sample $x = [x_1 \\ x_2 \\ x_3 \\ ... \\ x_m]^T$ in which $x_i$ denotes the number of occurrences of the event in consideration in $i^{th}$ Poisson experiment, then its likelihood and log-likelihood estimation for the parameter $\\lambda$ will be given as:\n",
    "\n",
    "$$\n",
    "\\begin{aligned}\n",
    "    L(\\lambda \\ | \\ x) & = \\prod_{i = 1}^m f(x_i \\ | \\ \\lambda) \\\\\n",
    "    & = \\prod_{i = 1}^m \\frac{\\lambda^{x_i} e^{-\\lambda}}{{x_i}!} \\\\\n",
    "    \\therefore \\log L(\\lambda \\ | \\ x) \n",
    "        & = \\log \\left(\\prod_{i = 1}^m \\frac{\\lambda^{x_i} e^{-\\lambda}}{{x_i}!}\\right) \\\\\n",
    "    & = \\sum_{i = 1}^m \\log \\left(\\frac{\\lambda^{x_i} e^{-\\lambda}}{{x_i}!}\\right) \\\\\n",
    "    & = \\log \\lambda \\sum_{i = 1}^m x_i + \\sum_{i = 1}^m (-\\lambda) \n",
    "        - \\sum_{i = 1}^m \\log({x_i}!) \\\\\n",
    "    \\text{Let } \\sum_{i = 1}^m x_i & = a \\text{, where } a \\text{ is a constant for a given sample.} \\\\\n",
    "    \\therefore \\log L(\\lambda \\ | \\ x) \n",
    "        & = a \\log \\lambda -\\lambda m - \\sum_{i = 1}^m \\log({x_i}!) \\\\\n",
    "\\end{aligned}\n",
    "$$\n",
    "Now, for a given sample, $\\sum_{i = 1}^m \\log({x_i}!)$ will be a constant independent of $\\lambda$, and therefore can be dropped from consideration for maximisation of likelihood. Let $\\log L'(\\lambda \\ | \\ x) = a \\log \\lambda -\\lambda m$. Therefore, differentiating w.r.t. to $\\lambda$, we get:\n",
    "$$\n",
    "\\begin{aligned}\n",
    "    \\frac{\\partial}{\\partial \\lambda} \\log L'(\\lambda \\ | \\ x)\n",
    "        & = a \\frac{\\partial}{\\partial \\lambda} \\log \\lambda - m \\frac{\\partial}{\\partial \\lambda} \\lambda \\\\\n",
    "    & = \\frac{a}{\\lambda} - m \\\\\n",
    "    \\frac{\\partial^2}{\\partial \\lambda^2} \\log L'(\\lambda \\ | \\ x)\n",
    "        & = - \\frac{a}{\\lambda^2} < 0 \\ \\forall \\ \\lambda \\ \\in \\ \\rm I\\!R^+ \\text{, implying concavity} \\\\\n",
    "    \\therefore \\text { for maximum log-likelihood estimation,} \\\\\n",
    "    \\frac{\\partial}{\\partial \\lambda} \\log L'(\\lambda \\ | \\ x) & = 0 \\\\\n",
    "    \\Longrightarrow \\frac{a}{\\lambda} - m & = 0 \\\\\n",
    "    \\Longrightarrow \\lambda & = \\frac{a}{m} \\\\\n",
    "    & = \\frac{1}{m} \\sum_{i = 1}^m x_i\n",
    "\\end{aligned}\n",
    "$$"
   ]
  },
  {
   "cell_type": "markdown",
   "metadata": {},
   "source": [
    "This means for **Poisson Distribution**, our parameter, $\\lambda$, should be equal to the **sample arithmetic mean** for maximum-likelihood estimation. Next, let's see an example on a practical dataset."
   ]
  },
  {
   "cell_type": "markdown",
   "metadata": {},
   "source": [
    "We will be using the **[Prussian Horse Kick Data](http://www.randomservices.org/random/data/HorseKicks.html)**. This is a publicly available dataset containing the number of soldier deaths due to horse-kicks in Prussian Cavalry between 1875 and 1894, on an annual basis across 14 different cavalry corps. So let's get started."
   ]
  },
  {
   "cell_type": "code",
   "execution_count": 17,
   "metadata": {},
   "outputs": [],
   "source": [
    "# import packages\n",
    "import pandas as pd\n",
    "import numpy as np\n",
    "import matplotlib.pyplot as plt\n",
    "import scipy"
   ]
  },
  {
   "cell_type": "code",
   "execution_count": 18,
   "metadata": {},
   "outputs": [
    {
     "data": {
      "text/html": [
       "<div>\n",
       "<style scoped>\n",
       "    .dataframe tbody tr th:only-of-type {\n",
       "        vertical-align: middle;\n",
       "    }\n",
       "\n",
       "    .dataframe tbody tr th {\n",
       "        vertical-align: top;\n",
       "    }\n",
       "\n",
       "    .dataframe thead th {\n",
       "        text-align: right;\n",
       "    }\n",
       "</style>\n",
       "<table border=\"1\" class=\"dataframe\">\n",
       "  <thead>\n",
       "    <tr style=\"text-align: right;\">\n",
       "      <th></th>\n",
       "      <th>GC</th>\n",
       "      <th>C1</th>\n",
       "      <th>C2</th>\n",
       "      <th>C3</th>\n",
       "      <th>C4</th>\n",
       "      <th>C5</th>\n",
       "      <th>C6</th>\n",
       "      <th>C7</th>\n",
       "      <th>C8</th>\n",
       "      <th>C9</th>\n",
       "      <th>C10</th>\n",
       "      <th>C11</th>\n",
       "      <th>C14</th>\n",
       "      <th>C15</th>\n",
       "    </tr>\n",
       "    <tr>\n",
       "      <th>Year</th>\n",
       "      <th></th>\n",
       "      <th></th>\n",
       "      <th></th>\n",
       "      <th></th>\n",
       "      <th></th>\n",
       "      <th></th>\n",
       "      <th></th>\n",
       "      <th></th>\n",
       "      <th></th>\n",
       "      <th></th>\n",
       "      <th></th>\n",
       "      <th></th>\n",
       "      <th></th>\n",
       "      <th></th>\n",
       "    </tr>\n",
       "  </thead>\n",
       "  <tbody>\n",
       "    <tr>\n",
       "      <th>1875</th>\n",
       "      <td>0</td>\n",
       "      <td>0</td>\n",
       "      <td>0</td>\n",
       "      <td>0</td>\n",
       "      <td>0</td>\n",
       "      <td>0</td>\n",
       "      <td>0</td>\n",
       "      <td>1</td>\n",
       "      <td>1</td>\n",
       "      <td>0</td>\n",
       "      <td>0</td>\n",
       "      <td>0</td>\n",
       "      <td>1</td>\n",
       "      <td>0</td>\n",
       "    </tr>\n",
       "    <tr>\n",
       "      <th>1876</th>\n",
       "      <td>2</td>\n",
       "      <td>0</td>\n",
       "      <td>0</td>\n",
       "      <td>0</td>\n",
       "      <td>1</td>\n",
       "      <td>0</td>\n",
       "      <td>0</td>\n",
       "      <td>0</td>\n",
       "      <td>0</td>\n",
       "      <td>0</td>\n",
       "      <td>0</td>\n",
       "      <td>0</td>\n",
       "      <td>1</td>\n",
       "      <td>1</td>\n",
       "    </tr>\n",
       "    <tr>\n",
       "      <th>1877</th>\n",
       "      <td>2</td>\n",
       "      <td>0</td>\n",
       "      <td>0</td>\n",
       "      <td>0</td>\n",
       "      <td>0</td>\n",
       "      <td>0</td>\n",
       "      <td>1</td>\n",
       "      <td>1</td>\n",
       "      <td>0</td>\n",
       "      <td>0</td>\n",
       "      <td>1</td>\n",
       "      <td>0</td>\n",
       "      <td>2</td>\n",
       "      <td>0</td>\n",
       "    </tr>\n",
       "    <tr>\n",
       "      <th>1878</th>\n",
       "      <td>1</td>\n",
       "      <td>2</td>\n",
       "      <td>2</td>\n",
       "      <td>1</td>\n",
       "      <td>1</td>\n",
       "      <td>0</td>\n",
       "      <td>0</td>\n",
       "      <td>0</td>\n",
       "      <td>0</td>\n",
       "      <td>0</td>\n",
       "      <td>1</td>\n",
       "      <td>0</td>\n",
       "      <td>1</td>\n",
       "      <td>0</td>\n",
       "    </tr>\n",
       "    <tr>\n",
       "      <th>1879</th>\n",
       "      <td>0</td>\n",
       "      <td>0</td>\n",
       "      <td>0</td>\n",
       "      <td>1</td>\n",
       "      <td>1</td>\n",
       "      <td>2</td>\n",
       "      <td>2</td>\n",
       "      <td>0</td>\n",
       "      <td>1</td>\n",
       "      <td>0</td>\n",
       "      <td>0</td>\n",
       "      <td>2</td>\n",
       "      <td>1</td>\n",
       "      <td>0</td>\n",
       "    </tr>\n",
       "  </tbody>\n",
       "</table>\n",
       "</div>"
      ],
      "text/plain": [
       "      GC  C1  C2  C3  C4  C5  C6  C7  C8  C9  C10  C11  C14  C15\n",
       "Year                                                            \n",
       "1875   0   0   0   0   0   0   0   1   1   0    0    0    1    0\n",
       "1876   2   0   0   0   1   0   0   0   0   0    0    0    1    1\n",
       "1877   2   0   0   0   0   0   1   1   0   0    1    0    2    0\n",
       "1878   1   2   2   1   1   0   0   0   0   0    1    0    1    0\n",
       "1879   0   0   0   1   1   2   2   0   1   0    0    2    1    0"
      ]
     },
     "execution_count": 18,
     "metadata": {},
     "output_type": "execute_result"
    }
   ],
   "source": [
    "# load the data from the text file stored in 'data' directory\n",
    "horse_kick_data = pd.read_csv('../data/HorseKicks.txt', sep='\\t', index_col='Year')\n",
    "horse_kick_data.head()"
   ]
  },
  {
   "cell_type": "code",
   "execution_count": 19,
   "metadata": {},
   "outputs": [
    {
     "data": {
      "text/plain": [
       "array([0, 0, 0, 0, 0, 0, 0, 1, 1, 0, 0, 0, 1, 0, 2, 0, 0, 0, 1, 0, 0, 0,\n",
       "       0, 0, 0, 0, 1, 1, 2, 0, 0, 0, 0, 0, 1, 1, 0, 0, 1, 0, 2, 0, 1, 2,\n",
       "       2, 1, 1, 0, 0, 0, 0, 0, 1, 0, 1, 0, 0, 0, 0, 1, 1, 2, 2, 0, 1, 0,\n",
       "       0, 2, 1, 0, 0, 3, 2, 1, 1, 1, 0, 0, 0, 2, 1, 4, 3, 0, 1, 0, 0, 2,\n",
       "       1, 0, 0, 1, 0, 1, 0, 0, 0, 0, 1, 2, 0, 0, 0, 0, 1, 0, 1, 1, 2, 1,\n",
       "       4, 1, 0, 0, 1, 2, 0, 1, 2, 1, 0, 1, 0, 3, 0, 0, 3, 0, 1, 0, 0, 0,\n",
       "       0, 1, 0, 0, 2, 0, 1, 1, 0, 0, 0, 0, 0, 0, 1, 0, 0, 2, 0, 1, 0, 1,\n",
       "       2, 1, 0, 0, 1, 1, 1, 0, 0, 1, 0, 1, 3, 0, 1, 1, 2, 1, 0, 0, 3, 2,\n",
       "       1, 1, 0, 1, 2, 0, 0, 1, 1, 0, 0, 1, 1, 0, 0, 0, 0, 1, 1, 0, 0, 0,\n",
       "       1, 1, 0, 1, 1, 0, 0, 1, 2, 2, 0, 2, 1, 2, 0, 2, 0, 1, 1, 2, 0, 2,\n",
       "       1, 1, 2, 2, 0, 0, 0, 1, 1, 1, 0, 1, 1, 0, 3, 3, 1, 0, 1, 3, 2, 0,\n",
       "       1, 1, 3, 0, 1, 1, 0, 1, 1, 0, 0, 1, 0, 0, 0, 1, 0, 2, 0, 0, 1, 3,\n",
       "       0, 0, 1, 0, 0, 0, 0, 0, 0, 0, 1, 0, 1, 1, 0, 0])"
      ]
     },
     "execution_count": 19,
     "metadata": {},
     "output_type": "execute_result"
    }
   ],
   "source": [
    "# let us flatten our dataframe into an array, \n",
    "# such that each element of the array represents the number of deaths\n",
    "# due to horse-kicks per corp per year\n",
    "sample = horse_kick_data.to_numpy().flatten()\n",
    "sample"
   ]
  },
  {
   "cell_type": "code",
   "execution_count": 20,
   "metadata": {},
   "outputs": [
    {
     "data": {
      "text/plain": [
       "0.7"
      ]
     },
     "execution_count": 20,
     "metadata": {},
     "output_type": "execute_result"
    }
   ],
   "source": [
    "# Let us now estimate the distribution parameter, 𝜆\n",
    "lambda_hat = np.mean(sample)\n",
    "lambda_hat"
   ]
  },
  {
   "cell_type": "code",
   "execution_count": 21,
   "metadata": {},
   "outputs": [
    {
     "data": {
      "image/png": "[encoded data removed]",
      "text/plain": [
       "<Figure size 432x288 with 1 Axes>"
      ]
     },
     "metadata": {
      "needs_background": "light"
     },
     "output_type": "display_data"
    }
   ],
   "source": [
    "# Let us now plot the histogram as well as the estimated distribution\n",
    "\n",
    "# plot the histogram\n",
    "plt.hist(sample, bins=(sample.max() + 1), range=(0, sample.max() + 1),\n",
    "         label='Histogram for sample')\n",
    "\n",
    "# plot the distribution\n",
    "# find the pmf values\n",
    "x_s = list(range(sample.max() + 1))\n",
    "y_s = (lambda_hat ** x_s) * np.exp(-lambda_hat) / scipy.special.factorial(x_s)\n",
    "\n",
    "# scale the pmf values\n",
    "y_s = y_s / y_s.max() * scipy.stats.mode(sample).count[0]\n",
    "plt.plot(x_s, y_s, label='Estimated Poisson Distribution (Scaled)')\n",
    "\n",
    "# customize plot\n",
    "plt.title('Sample Histogram and Estimated Distribution')\n",
    "plt.xlabel('Number of deaths per corp per year')\n",
    "plt.ylabel('Counts')\n",
    "plt.legend()\n",
    "plt.show()"
   ]
  },
  {
   "cell_type": "markdown",
   "metadata": {},
   "source": [
    "Note: Since the histogram counts the values into the bin with the lower limit $\\leq$ the value, hence we must consider the points on the top-left vertices of the histogram bars to find the difference in the expected values and the actual values."
   ]
  },
  {
   "cell_type": "code",
   "execution_count": 22,
   "metadata": {},
   "outputs": [
    {
     "data": {
      "text/html": [
       "<div>\n",
       "<style scoped>\n",
       "    .dataframe tbody tr th:only-of-type {\n",
       "        vertical-align: middle;\n",
       "    }\n",
       "\n",
       "    .dataframe tbody tr th {\n",
       "        vertical-align: top;\n",
       "    }\n",
       "\n",
       "    .dataframe thead th {\n",
       "        text-align: right;\n",
       "    }\n",
       "</style>\n",
       "<table border=\"1\" class=\"dataframe\">\n",
       "  <thead>\n",
       "    <tr style=\"text-align: right;\">\n",
       "      <th></th>\n",
       "      <th>Actual Counts</th>\n",
       "      <th>Expected Counts</th>\n",
       "    </tr>\n",
       "    <tr>\n",
       "      <th>Number of deaths per corp per year</th>\n",
       "      <th></th>\n",
       "      <th></th>\n",
       "    </tr>\n",
       "  </thead>\n",
       "  <tbody>\n",
       "    <tr>\n",
       "      <th>0</th>\n",
       "      <td>144</td>\n",
       "      <td>144.0000</td>\n",
       "    </tr>\n",
       "    <tr>\n",
       "      <th>1</th>\n",
       "      <td>91</td>\n",
       "      <td>100.8000</td>\n",
       "    </tr>\n",
       "    <tr>\n",
       "      <th>2</th>\n",
       "      <td>32</td>\n",
       "      <td>35.2800</td>\n",
       "    </tr>\n",
       "    <tr>\n",
       "      <th>3</th>\n",
       "      <td>11</td>\n",
       "      <td>8.2320</td>\n",
       "    </tr>\n",
       "    <tr>\n",
       "      <th>4</th>\n",
       "      <td>2</td>\n",
       "      <td>1.4406</td>\n",
       "    </tr>\n",
       "  </tbody>\n",
       "</table>\n",
       "</div>"
      ],
      "text/plain": [
       "                                    Actual Counts  Expected Counts\n",
       "Number of deaths per corp per year                                \n",
       "0                                             144         144.0000\n",
       "1                                              91         100.8000\n",
       "2                                              32          35.2800\n",
       "3                                              11           8.2320\n",
       "4                                               2           1.4406"
      ]
     },
     "execution_count": 22,
     "metadata": {},
     "output_type": "execute_result"
    }
   ],
   "source": [
    "# Table to show Expected counts with the estimated distribution\n",
    "# vs the actual counts observed from the sample\n",
    "\n",
    "counts = pd.DataFrame() # define an empty dataframe\n",
    "expected_counts = y_s\n",
    "actual_counts = []\n",
    "\n",
    "# find actual counts for all values in the sample\n",
    "for x in x_s:\n",
    "    actual_counts.append((sample == x).sum())\n",
    "\n",
    "# assign column-wise values to the dataframe\n",
    "counts['Number of deaths per corp per year'] = x_s\n",
    "counts['Actual Counts'] = actual_counts\n",
    "counts['Expected Counts'] = expected_counts\n",
    "\n",
    "# change index column\n",
    "counts = counts.set_index('Number of deaths per corp per year')\n",
    "\n",
    "# see the resultant dataframe\n",
    "counts"
   ]
  },
  {
   "cell_type": "markdown",
   "metadata": {},
   "source": [
    "Therefore, we see that our estimated distribution fits well to the sample and can be further used to determine other relevant information."
   ]
  },
  {
   "cell_type": "markdown",
   "metadata": {},
   "source": [
    "## Exponential Distribution"
   ]
  },
  {
   "cell_type": "markdown",
   "metadata": {},
   "source": [
    "**Exponential Distribution** models the **span of entities** such as time or distance **between consecutive occurrences** of an event following **Poisson Distribution**. Unlike the previously seen distributions, this is a **continuous distribution** since span can take continuous values. Like Poisson process, this distribution also has a property of **memorylessness**, which means that the previous occurrences and the time between them do not affect the occurrences happening later."
   ]
  },
  {
   "cell_type": "markdown",
   "metadata": {},
   "source": [
    "Probability density function for Exponential Distribution is given by:\n",
    "$$\n",
    "f(x \\ | \\ \\lambda) = \\left\\{\n",
    "    \\begin{matrix}\n",
    "        \\lambda e^{-\\lambda x} & x \\geq 0 \\\\\n",
    "        0 & \\text{otherwise} \\\\\n",
    "    \\end{matrix}\n",
    "\\right.\n",
    "$$\n",
    "where $\\lambda$ is the mean occurrence rate of the event under consideration, and $x$ determines the span of entity observed between consecutive occurrences."
   ]
  },
  {
   "cell_type": "markdown",
   "metadata": {},
   "source": [
    "For a sample $x = [x_1 \\ x_2 \\ x_3 \\ ... \\ x_m]^T$, such that $x_i$ is the span of entitiy between the occurrence of $i^{th}$ and $(i + 1)^{th}$ events, the likelihood and log-likelihood functions and the condition for maximum likelihood estimation would be as follows:\n",
    "$$\n",
    "\\begin{aligned}\n",
    "    L(\\lambda \\ | \\ x) & = \\prod_{i = 1}^m f(x_i \\ | \\ \\lambda) \\\\\n",
    "    & = \\prod_{i = 1}^m \\lambda e^{-\\lambda x_i} \\\\\n",
    "    \\therefore \\log L(\\lambda \\ | \\ x) \n",
    "        & = \\log \\left(\\prod_{i = 1}^m \\lambda e^{-\\lambda x_i}\\right) \\\\\n",
    "    & = \\sum_{i = 1}^m \\log \\left(\\lambda e^{-\\lambda x_i}\\right) \\\\\n",
    "    & = m \\log \\lambda - \\lambda \\sum_{i = 1}^m x_i \\\\\n",
    "    \\text{Let } \\sum_{i = 1}^m x_i & = a \\text{, where } a \\text{ is a constant for a given sample.} \\\\\n",
    "    \\therefore \\log L(\\lambda \\ | \\ x) \n",
    "        & = m \\log \\lambda -\\lambda a \\\\\n",
    "    \\therefore \\frac{\\partial}{\\partial \\lambda} \\log L(\\lambda \\ | \\ x)\n",
    "        & = m \\frac{\\partial}{\\partial \\lambda} \\log \\lambda - a \\frac{\\partial}{\\partial \\lambda} \\lambda \\\\\n",
    "    & = \\frac{m}{\\lambda} - a \\\\\n",
    "    \\Longrightarrow \\frac{\\partial^2}{\\partial \\lambda^2} \\log L(\\lambda \\ | \\ x)\n",
    "        & = - \\frac{m}{\\lambda^2} < 0 \\ \\forall \\ \\lambda \\ \\in \\ \\rm I\\!R^+ \\text{, implying concavity} \\\\\n",
    "    \\Longrightarrow \\text{For maximum log-likelihood estimation,} \\\\\n",
    "    \\frac{\\partial}{\\partial \\lambda} \\log L(\\lambda \\ | \\ x) & = 0 \\\\\n",
    "    \\Longrightarrow \\frac{m}{\\lambda} - a & = 0 \\\\\n",
    "    \\Longrightarrow \\lambda & = \\frac{m}{a} \\\\\n",
    "    & = \\frac{m}{\\sum_{i = 1}^m x_i}\n",
    "\\end{aligned}\n",
    "$$"
   ]
  },
  {
   "cell_type": "markdown",
   "metadata": {},
   "source": [
    "Therefore, we see that for maximum likelihood estimation of **Exponential Distribution**, the parameter $\\lambda$ should be equal to the **reciprocal of sample arithmetic mean**. Let's see an example. In this example, we shall refer a dataset from the reliability package (needed to be installed additionally), which contains the information of distances after which failures occurred in vehicles."
   ]
  },
  {
   "cell_type": "code",
   "execution_count": 23,
   "metadata": {},
   "outputs": [],
   "source": [
    "# pip install reliability \n",
    "# run the above stated command first to install reliability package\n",
    "\n",
    "# import packages\n",
    "import reliability\n",
    "import numpy as np\n",
    "import pandas as pd\n",
    "import matplotlib.pyplot as plt"
   ]
  },
  {
   "cell_type": "code",
   "execution_count": 24,
   "metadata": {},
   "outputs": [
    {
     "name": "stdout",
     "output_type": "stream",
     "text": [
      "Help on class mileage in module reliability.Datasets:\n",
      "\n",
      "class mileage(builtins.object)\n",
      " |  This dataset is simple to fit. It contains 100 values with no right censoring. The data appears to be from a Normal Distribution.\n",
      " |  Sourced from Example 2.31 (page 63) of Reliability Engineering and Risk analysis 3rd Edition by M. Modarres, M. Kaminskiy, and V.V. Krivtsov\n",
      " |  \n",
      " |  Methods defined here:\n",
      " |  \n",
      " |  __init__(self)\n",
      " |      Initialize self.  See help(type(self)) for accurate signature.\n",
      " |  \n",
      " |  ----------------------------------------------------------------------\n",
      " |  Data descriptors defined here:\n",
      " |  \n",
      " |  __dict__\n",
      " |      dictionary for instance variables (if defined)\n",
      " |  \n",
      " |  __weakref__\n",
      " |      list of weak references to the object (if defined)\n",
      "\n",
      "None\n"
     ]
    }
   ],
   "source": [
    "# import the dataset and see its help\n",
    "mileage = reliability.Datasets.mileage\n",
    "print(help(mileage))"
   ]
  },
  {
   "cell_type": "code",
   "execution_count": 25,
   "metadata": {},
   "outputs": [
    {
     "name": "stdout",
     "output_type": "stream",
     "text": [
      "[8734, 9979, 10014, 10539, 11538, 14318, 14525, 15261, 16651, 16735, 16768, 16946, 17438, 17861, 18318, 19938, 20269, 20588, 21075, 21248, 21293, 21757, 22159, 22374, 22418, 22456, 22532, 24571, 24993, 25056, 25210, 25746, 25754, 26208, 26252, 26704, 26713, 26830, 27037, 27300, 27322, 27812, 27836, 27837, 28109, 28127, 28172, 28185, 28219, 28433, 28688, 28968, 29015, 29180, 29760, 29807, 30368, 30935, 31084, 31388, 31565, 32176, 32231, 32628, 32677, 32797, 32914, 33532, 33703, 34107, 35138, 35390, 35589, 36258, 36531, 36837, 37603, 37623, 37752, 38071, 39485, 40902, 41064, 41267, 41821, 42911, 43154, 43665, 43939, 44264, 44404, 45283, 45554, 47119, 47590, 49432, 49436, 52448, 55269, 55627]\n"
     ]
    }
   ],
   "source": [
    "# get list of distances at which failures occurred\n",
    "failures = mileage().failures\n",
    "\n",
    "# sort the list so that distance between consecutive failures can be calculated\n",
    "failures.sort()\n",
    "\n",
    "# see the list\n",
    "print(failures)"
   ]
  },
  {
   "cell_type": "code",
   "execution_count": 26,
   "metadata": {},
   "outputs": [
    {
     "name": "stdout",
     "output_type": "stream",
     "text": [
      "[1245, 35, 525, 999, 2780, 207, 736, 1390, 84, 33, 178, 492, 423, 457, 1620, 331, 319, 487, 173, 45, 464, 402, 215, 44, 38, 76, 2039, 422, 63, 154, 536, 8, 454, 44, 452, 9, 117, 207, 263, 22, 490, 24, 1, 272, 18, 45, 13, 34, 214, 255, 280, 47, 165, 580, 47, 561, 567, 149, 304, 177, 611, 55, 397, 49, 120, 117, 618, 171, 404, 1031, 252, 199, 669, 273, 306, 766, 20, 129, 319, 1414, 1417, 162, 203, 554, 1090, 243, 511, 274, 325, 140, 879, 271, 1565, 471, 1842, 4, 3012, 2821, 358]\n"
     ]
    }
   ],
   "source": [
    "# let's populate the list of time taken between consecutive failures\n",
    "time_between_failures = []\n",
    "for i in range(len(failures) - 1):\n",
    "    time_between_failures.append(failures[i + 1] - failures[i])\n",
    "    \n",
    "# let's see the final data obtained\n",
    "print(time_between_failures)"
   ]
  },
  {
   "cell_type": "markdown",
   "metadata": {},
   "source": [
    "Let's now try to fit exponential distribution on it."
   ]
  },
  {
   "cell_type": "code",
   "execution_count": 27,
   "metadata": {},
   "outputs": [
    {
     "data": {
      "text/plain": [
       "0.00211118930330753"
      ]
     },
     "execution_count": 27,
     "metadata": {},
     "output_type": "execute_result"
    }
   ],
   "source": [
    "# estimate lambda\n",
    "lambda_hat = 1 / np.mean(time_between_failures)\n",
    "lambda_hat # these many average failures per unit distance covered"
   ]
  },
  {
   "cell_type": "code",
   "execution_count": 28,
   "metadata": {},
   "outputs": [
    {
     "data": {
      "image/png": "[encoded data removed]",
      "text/plain": [
       "<Figure size 432x288 with 1 Axes>"
      ]
     },
     "metadata": {
      "needs_background": "light"
     },
     "output_type": "display_data"
    }
   ],
   "source": [
    "# Let's plot the time between failures and the estimated distribution\n",
    "\n",
    "# plot the histogram and store bin counts\n",
    "bin_counts = plt.hist(time_between_failures, bins=20, \n",
    "                      range=(0, np.max(time_between_failures)),\n",
    "                      label='Histogram')[0]\n",
    "\n",
    "# plot the estimated distribution\n",
    "# find pdf values\n",
    "x_s = np.linspace(0, np.max(time_between_failures), 20)\n",
    "y_s = lambda_hat * np.exp(-lambda_hat * x_s)\n",
    "\n",
    "# scale pdf values\n",
    "y_s = y_s / np.max(y_s) * np.max(bin_counts)\n",
    "\n",
    "# plot x_s vs y_s\n",
    "plt.plot(x_s, y_s, label='Estimated Distribution (scaled)')\n",
    "\n",
    "# customize the plot\n",
    "plt.title('Sample Histogram and Estimated Distribution')\n",
    "plt.xlabel('Distance between failures')\n",
    "plt.ylabel('Counts')\n",
    "plt.legend()\n",
    "plt.show()"
   ]
  },
  {
   "cell_type": "markdown",
   "metadata": {},
   "source": [
    "We see that our estimated exponential distribution fits the data reasonably well."
   ]
  },
  {
   "cell_type": "markdown",
   "metadata": {},
   "source": [
    "## Normal Distribution"
   ]
  },
  {
   "cell_type": "markdown",
   "metadata": {},
   "source": [
    "# Summary"
   ]
  },
  {
   "cell_type": "markdown",
   "metadata": {},
   "source": [
    "# References"
   ]
  },
  {
   "cell_type": "markdown",
   "metadata": {},
   "source": [
    "The following sources were referred while making this notebook:\n",
    "- [Maximum Likelihood Estimation, STAT 415 - Introduction to Mathematical Statistics, PennState](https://online.stat.psu.edu/stat415/lesson/1/1.2)\n",
    "- [Maximum-likelihood (ML) Estimation, STAT 504 - Analysis of Discrete Data, PennState](https://online.stat.psu.edu/stat504/node/28/)\n",
    "- [Parameter Estimation, Chris Piech and Mehran Sahami, Stanford University](https://web.stanford.edu/class/cs109/reader/11%20Parameter%20Estimation.pdf)\n",
    "- [Maximum Likelihood Estimation, Wikipedia](https://en.wikipedia.org/wiki/Maximum_likelihood_estimation)\n",
    "- [Probability Concepts Explained: Maximum Likelihood Estimation, towards data science](https://towardsdatascience.com/probability-concepts-explained-maximum-likelihood-estimation-c7b4342fdbb1)\n",
    "- [StatQuest: Maximum Likelihood, clearly explained!!!, StatQuest with Josh Starmer](https://youtu.be/XepXtl9YKwc)\n",
    "- [StatQuest: Probability vs Likelihood, StatQuest with Josh Starmer](https://youtu.be/pYxNSUDSFH4)\n",
    "- [Maximum Likelihood for the Binomial Distribution, Clearly Explained!!!, StatQuest with Josh Starmer](https://youtu.be/4KKV9yZCoM4)\n",
    "- [Maximum Likelihood for the Exponential Distribution, Clearly Explained! V2.0, StatQuest with Josh Starmer](https://youtu.be/p3T-_LMrvBc)\n",
    "- [Maximum Likelihood For the Normal Distribution, step-by-step!, StatQuest with Josh Starmer](https://youtu.be/Dn6b9fCIUpM)"
   ]
  }
 ],
 "metadata": {
  "kernelspec": {
   "display_name": "Python 3",
   "language": "python",
   "name": "python3"
  },
  "language_info": {
   "codemirror_mode": {
    "name": "ipython",
    "version": 3
   },
   "file_extension": ".py",
   "mimetype": "text/x-python",
   "name": "python",
   "nbconvert_exporter": "python",
   "pygments_lexer": "ipython3",
   "version": "3.8.3"
  }
 },
 "nbformat": 4,
 "nbformat_minor": 4
}
