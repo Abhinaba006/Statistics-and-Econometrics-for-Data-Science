{
 "cells": [
  {
   "cell_type": "markdown",
   "metadata": {},
   "source": [
    "# Maximum Likelihood Estimation"
   ]
  },
  {
   "cell_type": "markdown",
   "metadata": {},
   "source": [
    "In this notebook, we will see what Maximum Likelihood Estimation is and how it can be used. \n",
    "\n",
    "**Contents**:\n",
    "- **[1. Introduction](#introduction)**\n",
    "- **[2. Mathematical Formulation](#math-formulation)**\n",
    "- **[3. Difference between Probability and Likelihood](#probability-likelihood)**\n",
    "- **[4. Probability Distributions, Estimations and Codes](#distributions)**\n",
    "    - **[4.1 Bernoulli Distribution](#bernoulli)**\n",
    "    - **[4.2 Binomial Distribution](#binomial)**\n",
    "    - **[4.3 Poisson Distribution](#poisson)**\n",
    "    - **[4.4 Exponential Distribution](#exponential)**\n",
    "    - **[4.5 Normal Distribution](#normal)**\n",
    "- **[5. Summary](#summary)**\n",
    "- **[6. References](#references)**\n",
    "---"
   ]
  },
  {
   "cell_type": "markdown",
   "metadata": {},
   "source": [
    "## <a id=\"introduction\">1. Introduction</a>"
   ]
  },
  {
   "cell_type": "markdown",
   "metadata": {},
   "source": [
    "We often need to study populations for various purposes such as understanding its characteristics, for finding patterns and to devise better solutions using these information. However, for large populations, it is neither possible nor feasible to examine each individual in a population to understand these properties and characteristics. Hence, the statisticians make use of random sampling. The measurements are, therefore, made on much smaller samples for analysis and drawing conclusions about the population.\n",
    "\n",
    "Analysing the data becomes a lot more easier if we are able to identify distribution of the population, using the sample. Any probability distribution is uniquely defined by some parameters. Therefore, if we somehow find/identify these parameters, we can easily study the population. This process of finding parameters for the population by analysing the samples from that population is called **estimation**.\n",
    "\n",
    "We can say that whenever our estimation is good, on random sampling again, we are **likelier** to obtain a sample which would be very similar to our original sample. In other words, more the chances of getting a similar sample with our estimates of the parameters, more is the **likelihood** that our estimation is satisfactorily correct.\n",
    "\n",
    "**Maximum likelihood estimation** is basically the process of estimating these parameters based on our sample, such that the likelihood of the population to be defined with those parameters is maximised.\n",
    "\n",
    "---"
   ]
  },
  {
   "cell_type": "markdown",
   "metadata": {},
   "source": [
    "## <a id=\"math-formulation\">2. Mathematical Formulation</a>"
   ]
  },
  {
   "cell_type": "markdown",
   "metadata": {},
   "source": [
    "Now that we have a gist of the problem we are trying to solve here, let's define it more formally.\n",
    "\n",
    "Suppose we have obtained a random sample from our population, given by $x_1, \\ x_2, \\ x_3, \\ ..., \\ x_n$. <br>\n",
    "Now, using this sample, we want to assume some distribution for our population. Let that distribution be defined as $D(\\theta)$, <br>\n",
    "where $\\theta = [\\theta_1 \\ \\theta_2 \\ \\theta_3 \\ ... \\ \\theta_k]^T$ is the vector defining the parameters for our assumed distribution $D$. \n",
    "\n",
    "Now, using our random sample, we want to determine the values of $\\theta$ which will make our distribution $D$ most likely to define our population. In order to quantify how likely it is for our assumed distribution $D$ with its estimated parameters $\\theta$ to define the population, we make use of **likelihood function**.\n",
    "\n",
    "We define the likelihood function,\n",
    "    $L : \\{\\theta, \\ x_1, \\ x_2, \\ x_3, \\ ..., \\ x_n\\} \\longrightarrow \\rm I\\!R_0^+$ as follows: <br>"
   ]
  },
  {
   "cell_type": "markdown",
   "metadata": {},
   "source": [
    "$$\n",
    "    \\begin{align}\n",
    "        L(\\theta \\ | \\ x_1, \\ x_2, \\ x_3, \\ ..., \\ x_n) \n",
    "            & = P(X_1 = x_1,X_2 = x_2,X_3 = x_3, \\ ..., \\ X_n = x_n) \\\\\n",
    "        & = f(x_1 | \\theta)\\ .\\ f(x_2 | \\theta)\\ .\\ f(x_3 | \\theta)\\ .\\ ...\\ .\\ f(x_n | \\theta) \\\\\n",
    "        & = \\prod_{i = 1}^n f(x_i | \\theta)\n",
    "    \\end{align}\n",
    "$$"
   ]
  },
  {
   "cell_type": "markdown",
   "metadata": {},
   "source": [
    "Here, $f$ is the probability mass/density function for our distribution $D$.\n",
    "\n",
    "**Note**: Since the sample is selected randomly from a large population, we can assume that selection of a datum into the sample is **independent** from selection of any other datum. This assumption of independence allows us to multiply the probability mass/density functions for each datum to calculate the overall likelihood."
   ]
  },
  {
   "cell_type": "markdown",
   "metadata": {},
   "source": [
    "The **goal** of **Maximum Likelihood Estimation** is to find $\\theta$ such that the likelihood function value gets maximised. For any likelihood function which is **concave**, or **negatively convexed**, we can find its maximum likelihood estimate by equating the first partial derivatives w.r.t. each parameter $\\theta_j, \\forall j \\in \\{1, 2, 3, \\ ..., \\ k\\}$ to $0$. As we will see later, for commonly occuring probability distributions, the likelihood functions are indeed concave."
   ]
  },
  {
   "cell_type": "markdown",
   "metadata": {},
   "source": [
    "$$\n",
    "    \\begin{align}\n",
    "        \\therefore \\ \\theta \n",
    "            & = \\mbox{arg} \\ \\max_{\\theta \\ \\in \\ \\Theta} \\  L(\\theta \\ | \\ x_1, x_2, x_3, \\ ..., \\ x_n) \\\\\n",
    "        \\Longrightarrow \\ \\theta_j \n",
    "            & = \\mbox{arg} \\left( \\frac{\\partial L}{\\partial \\theta_j} = 0 \\right) \n",
    "            \\ \\forall \\ j \\in \\{1, \\ 2, \\ 3, \\ ..., \\ k\\} \\ | \\ \\mbox{L is concave}\n",
    "    \\end{align}\n",
    "$$"
   ]
  },
  {
   "cell_type": "markdown",
   "metadata": {},
   "source": [
    "Equating partial derivatives to $0$ would be difficult here because product of probability mass/density function for all the elements of the sample would require extended application of chain rule.\n",
    "Hence, we make use of **logarithm function**. Logarithm function is monotonically strictly increasing function. Therefore, wherever $L$ will maximise, at the same parameter values, $\\log(L)$ will also maximize. Therefore, instead of maximising the likelihood estimation, we maximise the **log likelihood estimation**."
   ]
  },
  {
   "cell_type": "markdown",
   "metadata": {},
   "source": [
    "$$\n",
    "\\begin{align}\n",
    "    L(\\theta \\ | \\ x_1, x_2, x_3, \\ ..., \\ x_n) & = \\prod_{i = 1}^n f(x_i \\ | \\ \\theta) \\\\\n",
    "    \\Longrightarrow \\log\\left(L(\\theta \\ | \\ x_1, x_2, x_3, \\ ..., \\ x_n)\\right) \n",
    "        & = \\log\\left(\\prod_{i = 1}^n f(x_i \\ | \\ \\theta)\\right) \\\\\n",
    "    & = \\sum_{i = 1}^n \\log\\left(f(x_i \\ | \\ \\theta)\\right) \\\\\n",
    "    \\Longrightarrow \\frac{\\partial}{\\partial \\theta_j} \n",
    "        \\log\\left(L(\\theta \\ | \\ x_1, x_2, x_3, \\ ..., \\ x_n)\\right)\n",
    "        & = \\sum_{i = 1}^n \\frac{\\partial}{\\partial \\theta_j} \\log\\left(f(x_i \\ | \\ \\theta)\\right),\n",
    "        \\ \\forall \\ j \\in \\{1, 2, 3, \\ ..., \\ k\\} \\\\\n",
    "    & = \\sum_{i = 1}^n \\frac{1}{f(x_i \\ | \\ \\theta)} \\frac{\\partial}{\\partial \\theta_j} f(x_i \\ | \\ \\theta),\n",
    "        \\ \\forall \\ j \\in \\{1, 2, 3, \\ ..., \\ k\\} \\\\\n",
    "    \\therefore \\ \\mbox{for concave likelihood functions}, \\ \\theta_j \n",
    "        & = \\mbox{arg} \\left(\\sum_{i = 1}^n \\frac{1}{f(x_i \\ | \\ \\theta)} \\frac{\\partial}{\\partial \\theta_j}\n",
    "        f(x_i \\ | \\ \\theta) = 0\\right), \\ \\forall \\ j \\in \\{1, 2, 3, \\ ..., \\ k\\} \\\\\n",
    "\\end{align}\n",
    "$$"
   ]
  },
  {
   "cell_type": "markdown",
   "metadata": {},
   "source": [
    "Now that we have seen the way to maximise the likelihood of estimation, let's do this for some probability distributions in the next section.\n",
    "\n",
    "---"
   ]
  },
  {
   "cell_type": "markdown",
   "metadata": {},
   "source": [
    "## <a id=\"probability-likelihood\">3. Difference between Probability and Likelihood</a>"
   ]
  },
  {
   "cell_type": "markdown",
   "metadata": {},
   "source": [
    "In the beginning, one may think probability and likelihood to be the same thing with only thier names different. This is primarily because the mathematical formula for both of these entities are quite similar. So let's see how likelihood is different from probability. \n",
    "\n",
    "Roughly speaking, **probability** tells you the **possibility of observing specific results** or outcomes given a **particular distribution**. When we compute probability, we are already aware about the distribution parameters and hence the **distribution is fixed**. Therefore, with the help of probability, we are able to determine how probable it is to obtain the results in consideration for an event.\n",
    "\n",
    "On the other hand, in likelihood, we deal with the reverse scenario. Likelihood tells you the possibility that something that you have observed is specifically distributed. This means, for the case of **likelihood** calculation, we already have our **results fixed**. In this case, the **the distribution parameters** play the role of **variables**. Therefore, using our results, we try to find how well some particular distribution fits on our results.\n",
    "\n",
    "Mathematically, <br>\n",
    "- Probability is described by a function $P : \\{x_1, \\ x_2, \\ x_3, \\ ..., \\ x_n, \\theta\\} \\longrightarrow [0, 1]$, computed as $P(x_1, \\ x_2, \\ x_3, \\ ..., \\ x_n \\ | \\ \\theta)$\n",
    "- Whereas, likelihood can be written as a function $L : \\{x_1, \\ x_2, \\ x_3, \\ ..., \\ x_n, \\theta\\} \\longrightarrow \\rm I\\!R_0^+$, computed as $L(\\theta \\ | \\ x_1, \\ x_2, \\ x_3, \\ ..., \\ x_n)$\n",
    "\n",
    "where, $x_1, \\ x_2, \\ x_3, \\ ..., \\ x_n$ are the results/observations, and $\\theta$ is the vector of distribution parameters"
   ]
  },
  {
   "cell_type": "markdown",
   "metadata": {},
   "source": [
    "Let's consider an example to understand this better. <br>\n",
    "Suppose we are given an exponential distribution with its rate, i.e., $\\lambda$ equal to $2$. This is how the probability density function for this distribution will look:"
   ]
  },
  {
   "cell_type": "code",
   "execution_count": 1,
   "metadata": {},
   "outputs": [],
   "source": [
    "# make matplotlib plots plotted inline with the notebook\n",
    "%matplotlib inline\n",
    "\n",
    "# import packages\n",
    "import matplotlib.pyplot as plt\n",
    "import numpy as np\n",
    "import scipy.stats as ss"
   ]
  },
  {
   "cell_type": "code",
   "execution_count": 2,
   "metadata": {},
   "outputs": [
    {
     "data": {
      "image/png": "[encoded data removed]",
      "text/plain": [
       "<Figure size 432x288 with 1 Axes>"
      ]
     },
     "metadata": {
      "needs_background": "light"
     },
     "output_type": "display_data"
    }
   ],
   "source": [
    "# find 10000 exponentially distributed values between 0 and 3\n",
    "rate = 2 # lambda\n",
    "x = np.linspace(0, 3, 10000) # 10000 uniformly spaced values between 0 and 3\n",
    "y_pdf = ss.expon.pdf(x, scale=(1 / rate)) # scale is inverse of lambda, pdf function returns pdf values\n",
    "\n",
    "# plot the values to visualise the distribution\n",
    "# we use semicolons here to hide unwanted lines in the output (just like it happens in MATLAB)\n",
    "plt.plot(x, y_pdf); # plot x againtst y values\n",
    "plt.title('Plot of exponential distribution with λ = 2'); # give title to the plot\n",
    "plt.ylabel('Probability Density Function'); # give y axis label\n",
    "plt.xlabel('Random variable'); # give x axis label"
   ]
  },
  {
   "cell_type": "markdown",
   "metadata": {},
   "source": [
    "Now suppose we want to know how likely is it that we'll find a waiting time, $x$, between two successive events as $x \\geq 0.75 \\wedge x \\leq 1.5$ with this distribution. For that, we calculate the probability as $P(0.75 \\leq x \\leq 1.5 \\ | \\ \\lambda = 2)$. This will be same as finding area under the curve."
   ]
  },
  {
   "cell_type": "code",
   "execution_count": 3,
   "metadata": {},
   "outputs": [
    {
     "data": {
      "image/png": "[encoded data removed]",
      "text/plain": [
       "<Figure size 432x288 with 1 Axes>"
      ]
     },
     "metadata": {
      "needs_background": "light"
     },
     "output_type": "display_data"
    }
   ],
   "source": [
    "# define the bounds\n",
    "lower_bound = 0.75\n",
    "upper_bound = 1.5\n",
    "\n",
    "mask = (x >= lower_bound) & (x <= upper_bound) # get indices in x with values within these bounds\n",
    "x_area = x[mask] # get values of x which are between the bounds\n",
    "y_area = y_pdf[mask] # get corresponding values for the PDF function\n",
    "\n",
    "plt.plot(x, y_pdf); # plot the PDF\n",
    "plt.fill_between(x_area, y_area, 0, alpha=0.5); # plot the area under the curve\n",
    "plt.title('Probability that x is between 0.75 and 1.5, when λ = 2'); # give title to the plot\n",
    "plt.ylabel('Probability Density Function'); # give y axis label\n",
    "plt.xlabel('Random variable'); # give x axis label"
   ]
  },
  {
   "cell_type": "markdown",
   "metadata": {},
   "source": [
    "Now, this area, when calculated, will be equal to equal to $\\mbox{CDF}(1.5) - \\mbox{CDF}(0.75)$, which is equal to 0.2492 (approx.)."
   ]
  },
  {
   "cell_type": "code",
   "execution_count": 4,
   "metadata": {},
   "outputs": [
    {
     "data": {
      "text/plain": [
       "0.2492363925925849"
      ]
     },
     "execution_count": 4,
     "metadata": {},
     "output_type": "execute_result"
    }
   ],
   "source": [
    "# code to find the probability value:\n",
    "ss.expon.cdf(upper_bound) - ss.expon.cdf(lower_bound)"
   ]
  },
  {
   "cell_type": "markdown",
   "metadata": {},
   "source": [
    "In this case, if you would see, we had the value of the distribution parameter, that is $\\lambda$ already fixed to $2$. And using those fixed values, we calculated how probable it would be to find observations between $0.75$ and $1.5$.\n",
    "\n",
    "Now, suppose we already have some results - let's say $x = 0.75$. Now using this, in case of likelihood, we want to evaluate how likely is it that this datum was obtained from a specific distribution. So let's try to first see the likelihood when $\\lambda = 2$. For that, we calculate the likelihood as: $L(\\lambda = 2 \\ | \\ x = 0.75) = \\mbox{pdf}(x = 0.75 \\ | \\ \\lambda = 2)$."
   ]
  },
  {
   "cell_type": "code",
   "execution_count": 5,
   "metadata": {},
   "outputs": [
    {
     "data": {
      "image/png": "[encoded data removed]",
      "text/plain": [
       "<Figure size 432x288 with 1 Axes>"
      ]
     },
     "metadata": {
      "needs_background": "light"
     },
     "output_type": "display_data"
    }
   ],
   "source": [
    "# define the observation and the rate values\n",
    "observation = 0.75\n",
    "rate = 2\n",
    "\n",
    "# compute the likelihood value\n",
    "likelihood = ss.expon.pdf(observation, scale=(1 / rate))\n",
    "\n",
    "plt.plot(x, y_pdf); # plot the PDF\n",
    "plt.plot([0, observation], [likelihood, likelihood], '-r'); # plot the abscissa\n",
    "plt.plot([observation, observation], [0, likelihood], '-r'); # plot the oordinate\n",
    "plt.plot([observation], [likelihood], 'or'); # plot the point\n",
    "plt.annotate(f'({observation}, {round(likelihood, 4)})', xy=(observation, likelihood)); # annotate the point\n",
    "plt.title('Likelihood that λ = 2 when x = 0.75'); # give title to the plot\n",
    "plt.ylabel('Probability Density Function'); # give y axis label\n",
    "plt.xlabel('Random variable'); # give x axis label\n",
    "plt.xlim(0, 3); # define range on x axis\n",
    "plt.ylim(0, 2); # define range on y axis"
   ]
  },
  {
   "cell_type": "markdown",
   "metadata": {},
   "source": [
    "In this case, we can see that likelihood came out to be a single point on the PDF function curve. Hence, the likelihood that $\\lambda = 2$ for exponential distribution when $x = 0.75$ is $0.4463$.\n",
    "\n",
    "Similarly, for $\\lambda = 0.5$, the likelihood will be: $0.3436$. <br> \n",
    "This means it is likelier that this observation has been drawn from an exponential distribution with rate $= 2$ rather than rate $= 0.5$."
   ]
  },
  {
   "cell_type": "code",
   "execution_count": 6,
   "metadata": {},
   "outputs": [
    {
     "data": {
      "image/png": "[encoded data removed]",
      "text/plain": [
       "<Figure size 432x288 with 1 Axes>"
      ]
     },
     "metadata": {
      "needs_background": "light"
     },
     "output_type": "display_data"
    }
   ],
   "source": [
    "# define the observation and the rate values\n",
    "observation = 0.75\n",
    "rate = 0.5\n",
    "\n",
    "# compute the likelihood value\n",
    "likelihood = ss.expon.pdf(observation, scale=(1 / rate))\n",
    "\n",
    "y_pdf = ss.expon.pdf(x, scale=(1 / rate)) # pdf values with scale changed\n",
    "plt.plot(x, y_pdf); # plot the PDF\n",
    "plt.plot([0, observation], [likelihood, likelihood], '-r'); # plot the abscissa\n",
    "plt.plot([observation, observation], [0, likelihood], '-r'); # plot the oordinate\n",
    "plt.plot([observation], [likelihood], 'or'); # plot the point\n",
    "plt.annotate(f'({observation}, {round(likelihood, 4)})', xy=(observation, likelihood)); # annotate the point\n",
    "plt.title('Likelihood that λ = 0.5 when x = 0.75'); # give title to the plot\n",
    "plt.ylabel('Probability Density Function'); # give y axis label\n",
    "plt.xlabel('Random variable'); # give x axis label\n",
    "plt.xlim(0, 3); # define range on x axis\n",
    "plt.ylim(0, 2); # define range on y axis"
   ]
  },
  {
   "cell_type": "markdown",
   "metadata": {},
   "source": [
    "---"
   ]
  },
  {
   "cell_type": "markdown",
   "metadata": {},
   "source": [
    "## <a id=\"distributions\">4. Probability Distributions, Estimations and Codes</a>"
   ]
  },
  {
   "cell_type": "markdown",
   "metadata": {},
   "source": [
    "Now that we know what maximum likelihood estimation is and how we are supposed to do it, let's use it to estimate distributions for samples taken from some commonly occurring probability distributions."
   ]
  },
  {
   "cell_type": "markdown",
   "metadata": {},
   "source": [
    "### <a id=\"bernoulli\">4.1 Bernoulli Distribution</a>"
   ]
  },
  {
   "cell_type": "markdown",
   "metadata": {},
   "source": [
    "Bernoulli Distribution is a **discrete** distribution which can be used to model a **single yes-no event**. An example of such an event is a coint toss. A coin can either land with heads up, or tails up. Since only two outcomes are possible in a Bernoulli trial, therefore, it has only **one parameter**, i.e., the **probability of obtaining one of the outcomes**. For the other outcome, because of the two outcomes being complementary, the probability for it to occurr is determined automatically.\n",
    "\n",
    "Mathematically, <br>\n",
    "A random variable $X$ is said to have a Bernoulli Distribution if, for $x \\in X$:"
   ]
  },
  {
   "cell_type": "markdown",
   "metadata": {},
   "source": [
    "$$\n",
    "f(x) = \\left\\{\n",
    "    \\begin{array} \\\\\n",
    "        p & \\mbox{if } x = 1 \\\\\n",
    "        1 - p & \\mbox{if } x = 0 \\\\\n",
    "        0 & \\mbox{otherwise}\n",
    "    \\end{array}\n",
    "\\right.\n",
    "$$"
   ]
  },
  {
   "cell_type": "markdown",
   "metadata": {},
   "source": [
    "Here, $f$ is the probability mass function, $p$ is the probability for one of the two possible outcomes to happen, $x = 1$ implies that the first outcome has successfully occurred. Therefore, when $x = 0$, the first outcome has failed to occur which implies that the second outcome has occurred. Hence, the probability mass function can be condensed to the following representation:"
   ]
  },
  {
   "cell_type": "markdown",
   "metadata": {},
   "source": [
    "$$\n",
    "    f(x) = p^x(1 - p)^{1 - x}, \\ x \\in \\{0, 1\\}\n",
    "$$"
   ]
  },
  {
   "cell_type": "markdown",
   "metadata": {},
   "source": [
    "Now let's say we have a sample, $x_1, \\ x_2, \\ x_3, \\ ..., \\ x_n$ which we have obtained supposedly from $n$ independent and identical Bernoulli trials. So, we will now need to estimate what parameter $p$, for our assumed Bernoulli Distribution, will best describe our sample. For this, we proceed onto calculating the likelihood."
   ]
  },
  {
   "cell_type": "markdown",
   "metadata": {},
   "source": [
    "$$\n",
    "\\begin{align}\n",
    "    L(p \\ | \\ x_1, x_2, x_3, \\ ..., \\ x_n) & = \\prod_{i = 1}^n f(x_i \\ | \\ p) \\\\\n",
    "    & = \\prod_{i = 1}^n p^{x_i}(1 - p)^{1 - x_i}\n",
    "\\end{align}\n",
    "$$"
   ]
  },
  {
   "cell_type": "markdown",
   "metadata": {},
   "source": [
    "Therefore, the log likelihood function would be:"
   ]
  },
  {
   "cell_type": "markdown",
   "metadata": {},
   "source": [
    "$$\n",
    "\\begin{align}\n",
    "    \\log L(p \\ | \\ x_1, x_2, x_3, \\ ..., \\ x_n) \n",
    "        & = \\log\\left(\\prod_{i = 1}^n p^{x_i}(1 - p)^{1 - x_i}\\right) \\\\\n",
    "    & = \\sum_{i = 1}^n \\log\\left(p^{x_i}(1 - p)^{1 - x_i}\\right) \\\\\n",
    "    & = \\sum_{i = 1}^n \\log\\left(p^{x_i}\\right) + \\sum_{i = 1}^n \\log\\left((1 - p)^{1 - x_i}\\right) \\\\\n",
    "    & = \\log(p) \\sum_{i = 1}^n x_i + \\log(1 - p) \\sum_{i = 1}^n (1 - x_i) \\\\\n",
    "    \\mbox{Let's consider} \\ \\frac{1}{n}\\sum_{i = 1}^n x_i \n",
    "        & = c, \\ \\mbox{where} \\ c \\ \\mbox{is a constant for a given sample, } \n",
    "        0 \\leq c \\leq 1 \\mbox{, independent of } p. \\\\\n",
    "    \\therefore \\log L(p \\ | \\ x_1, x_2, x_3, \\ ..., \\ x_n) \n",
    "        & = n[c\\log(p) + (1 - c)\\log(1 - p)] \\\\\n",
    "\\end{align}\n",
    "$$"
   ]
  },
  {
   "cell_type": "markdown",
   "metadata": {},
   "source": [
    "Let's try to visualise this function. Since $n$ will only scale the function, we can ignore it for now. Also, the surface plot did not give a representation intuitive enough that the function is concave, so we have made these plots for $c \\in \\{0.1, 0.5, 0.9\\}$ "
   ]
  },
  {
   "cell_type": "code",
   "execution_count": 7,
   "metadata": {},
   "outputs": [],
   "source": [
    "# include packages\n",
    "import numpy as np\n",
    "import matplotlib.pyplot as plt"
   ]
  },
  {
   "cell_type": "code",
   "execution_count": 8,
   "metadata": {},
   "outputs": [
    {
     "data": {
      "image/png": "[encoded data removed]",
      "text/plain": [
       "<Figure size 432x288 with 1 Axes>"
      ]
     },
     "metadata": {
      "needs_background": "light"
     },
     "output_type": "display_data"
    }
   ],
   "source": [
    "# make arrays for p and c \n",
    "p = np.linspace(0.001, 0.999, 1000)\n",
    "c_s = np.linspace(0.1, 0.9, 3)\n",
    "\n",
    "# define the figure\n",
    "fig = plt.figure()\n",
    "ax = plt.axes()\n",
    "\n",
    "# plot the log-likelihood function for each value of c\n",
    "for c in c_s:\n",
    "    log_likelihood = c * np.log(p) + (1 - c) * np.log(1 - p) # compute log-likelihood function values\n",
    "    ax.plot(p, log_likelihood, label=f'c = {c}') # plot log-likelihood function\n",
    "\n",
    "plt.legend() # put legend on plot\n",
    "plt.xlabel('Probability(x = 1), p') # put x label\n",
    "plt.ylabel('Log-likelihood') # put y label\n",
    "plt.title('Log-likelihood function for Bernoulli Distribution') # give title to plot\n",
    "plt.show() # show the plot"
   ]
  },
  {
   "cell_type": "markdown",
   "metadata": {},
   "source": [
    "Here we observe that log-likelihood function is concave and we can, therefore, perform maximum likelihood estimation by equating partial derivates of this log-likelihood function w.r.t. $p$ to be $0$.\n",
    "\n",
    "Partially differentiating log-likelihood function w.r.t. $p$, we get:"
   ]
  },
  {
   "cell_type": "markdown",
   "metadata": {},
   "source": [
    "$$\n",
    "\\begin{align}\n",
    "    \\frac{\\partial}{\\partial p}\\log L(p \\ | \\ x_1, x_2, x_3, \\ ..., \\ x_n)\n",
    "        & = n\\left[c \\frac{\\partial \\log(p)}{\\partial p} \n",
    "        + (1 - c) \\frac{\\partial \\log(1 - p)}{\\partial p}\\right] \\\\\n",
    "    & = n\\left[c \\frac{1}{p} - (1 - c) \\frac{1}{1 - p}\\right] \\\\\n",
    "\\end{align}\n",
    "$$"
   ]
  },
  {
   "cell_type": "markdown",
   "metadata": {},
   "source": [
    "Equating the partial derivative with 0, to find $p$ which gives maximum likelihood, we get:"
   ]
  },
  {
   "cell_type": "markdown",
   "metadata": {},
   "source": [
    "$$\n",
    "\\begin{align}\n",
    "    \\frac{\\partial}{\\partial p}\\log L(p \\ | \\ x_1, x_2, x_3, \\ ..., \\ x_n) & = 0 \\\\\n",
    "    \\Longrightarrow \\frac{c}{p} & = \\frac{1 - c}{1 - p} \\\\\n",
    "    \\Longrightarrow p & = c \\\\\n",
    "    \\therefore p & = \\frac{1}{n} \\sum_{i = 1}^n x_i = \\bar{x}\n",
    "\\end{align}\n",
    "$$"
   ]
  },
  {
   "cell_type": "markdown",
   "metadata": {},
   "source": [
    "Hence, we find that for **MLE of Bernoulli Distribution**, the parameter $p$ should be kept as the **mean of the sample**. Now let's demonstrate this on an example."
   ]
  },
  {
   "cell_type": "code",
   "execution_count": 9,
   "metadata": {},
   "outputs": [
    {
     "name": "stdout",
     "output_type": "stream",
     "text": [
      "[0, 1, 0, 0, 1, 1, 0, 1, 1, 1, 0, 1, 1, 1, 0, 1, 1, 0, 1, 1, 0, 1, 1, 1, 1, 1, 1, 1, 1, 0, 0, 1, 0, 0, 1, 0, 1, 1, 1, 0, 1, 1, 0, 1, 0, 0, 0, 0, 1, 0, 0, 0, 0, 1, 1, 0, 1, 1, 0, 1, 1, 0, 0, 1, 1, 1, 1, 1, 1, 1, 1, 1, 0, 1, 0, 1, 1, 1, 1, 1, 0, 0, 0, 0, 0, 1, 0, 1, 1, 1, 0, 1, 0, 1, 1, 0, 1, 1, 1, 0]\n"
     ]
    }
   ],
   "source": [
    "# Let actual distribution parameter, p, be uniformly picked between 0 and 1\n",
    "p = np.random.rand()\n",
    "\n",
    "N = [1, 10, 100, 1000] # perform MLE with these many points in samples to compare the results\n",
    "sample = {} # to store the obtained samples\n",
    "\n",
    "for n in N:\n",
    "    # Simulate n identical and independent Bernoulli trials\n",
    "    sample_n = []\n",
    "    for i in range(n):\n",
    "        sample_n.append(np.random.binomial(n=1, p=p)) # perform single Bernoulli trial and the result to sample\n",
    "    sample[n] = sample_n # add sample to dictionary\n",
    "print(sample[100]) # representation of a sample obtained"
   ]
  },
  {
   "cell_type": "code",
   "execution_count": 10,
   "metadata": {},
   "outputs": [
    {
     "name": "stdout",
     "output_type": "stream",
     "text": [
      "For n =    1, we estimate the parameter p to be 1.0\n",
      "For n =   10, we estimate the parameter p to be 0.7\n",
      "For n =  100, we estimate the parameter p to be 0.61\n",
      "For n = 1000, we estimate the parameter p to be 0.625\n"
     ]
    }
   ],
   "source": [
    "# Now, let's try to perform maximum likelihood estimation using these samples.\n",
    "# We saw that we estimate p to be equal to the sample mean\n",
    "for n in N:\n",
    "    p_hat = np.mean(sample[n])\n",
    "    print(f'For n = %4d, we estimate the parameter p to be {p_hat}' % n)"
   ]
  },
  {
   "cell_type": "code",
   "execution_count": 11,
   "metadata": {},
   "outputs": [
    {
     "name": "stdout",
     "output_type": "stream",
     "text": [
      "The actual value of p is 0.6330557992009809\n"
     ]
    }
   ],
   "source": [
    "# Now, let's see the actual value of p ;)\n",
    "print(f'The actual value of p is {p}')"
   ]
  },
  {
   "cell_type": "markdown",
   "metadata": {},
   "source": [
    "From this example, we see that with the help of maximum likelihood estimation, for large samples, we are able to estimate the values of the distribution parameter reasonably well.\n",
    "\n",
    "---"
   ]
  },
  {
   "cell_type": "markdown",
   "metadata": {},
   "source": [
    "### <a id=\"binomial\">4.2 Binomial Distribution</a>"
   ]
  },
  {
   "cell_type": "markdown",
   "metadata": {},
   "source": [
    "Binomial Distribution is a discrete probability distribution which models the **number of successes** in an experiment in which $n$ **Bernoulli trials** were conducted successively and independently, such that probability for success in any of these trials is $p$. For example, number of heads obtained in $10$ coin tosses will be binomially distributed.\n",
    "\n",
    "Formally,\n",
    "For a random variable $X \\sim \\mbox{Bin}(n, p)$ if for $x \\in X$, we have:"
   ]
  },
  {
   "cell_type": "markdown",
   "metadata": {},
   "source": [
    "$$\n",
    "f(x) = \\left\\{\n",
    "    \\begin{array} \\\\\n",
    "        \\frac{n!}{(n - x)! x!} p^x (1 - p)^{n - x} \n",
    "            & \\mbox{if } x \\in \\{z \\ : \\ z \\in Z \\ \\wedge \\ 0 \\leq z \\leq n\\} \\\\\n",
    "        0 & \\mbox{otherwise }\n",
    "    \\end{array}\n",
    "\\right.\n",
    "$$"
   ]
  },
  {
   "cell_type": "markdown",
   "metadata": {},
   "source": [
    "where, $f$ is the probability density function.\n",
    "\n",
    "Now suppose we have a sample $x_1, x_2, x_3, \\ ..., \\ x_m$, obtained after performing identical experiments $n$ times, and we assume it to come from a binomial distribution. Therefore, its likelihood function and log-likelihood function will be defined as:"
   ]
  },
  {
   "cell_type": "markdown",
   "metadata": {},
   "source": [
    "$$\n",
    "L(p \\ | \\ n, x_1, x_2, x_3, ..., x_m)\n",
    "$$"
   ]
  },
  {
   "cell_type": "markdown",
   "metadata": {},
   "source": [
    "### <a id=\"poisson\">4.3 Poisson Distribution</a>"
   ]
  },
  {
   "cell_type": "markdown",
   "metadata": {},
   "source": [
    "### <a id=\"exponential\">4.4 Exponential Distribution</a>"
   ]
  },
  {
   "cell_type": "markdown",
   "metadata": {},
   "source": [
    "### <a id=\"normal\">4.5 Normal Distribution</a>"
   ]
  },
  {
   "cell_type": "markdown",
   "metadata": {},
   "source": [
    "## <a id=\"summary\">5. Summary</a>"
   ]
  },
  {
   "cell_type": "markdown",
   "metadata": {},
   "source": [
    "## <a id=\"references\">6. References</a>"
   ]
  },
  {
   "cell_type": "markdown",
   "metadata": {},
   "source": [
    "The following sources were referred while making this notebook:\n",
    "- [Maximum Likelihood Estimation, STAT 415 - Introduction to Mathematical Statistics, PennState](https://online.stat.psu.edu/stat415/lesson/1/1.2)\n",
    "- [Maximum-likelihood (ML) Estimation, STAT 504 - Analysis of Discrete Data, PennState](https://online.stat.psu.edu/stat504/node/28/)\n",
    "- [Parameter Estimation, Chris Piech and Mehran Sahami, Stanford University](https://web.stanford.edu/class/cs109/reader/11%20Parameter%20Estimation.pdf)\n",
    "- [Maximum Likelihood Estimation, Wikipedia](https://en.wikipedia.org/wiki/Maximum_likelihood_estimation)\n",
    "- [Probability Concepts Explained: Maximum Likelihood Estimation, towards data science](https://towardsdatascience.com/probability-concepts-explained-maximum-likelihood-estimation-c7b4342fdbb1)\n",
    "- [StatQuest: Maximum Likelihood, clearly explained!!!, StatQuest with Josh Starmer](https://youtu.be/XepXtl9YKwc)\n",
    "- [StatQuest: Probability vs Likelihood, StatQuest with Josh Starmer](https://youtu.be/pYxNSUDSFH4)\n",
    "- [Maximum Likelihood for the Binomial Distribution, Clearly Explained!!!, StatQuest with Josh Starmer](https://youtu.be/4KKV9yZCoM4)\n",
    "- [Maximum Likelihood for the Exponential Distribution, Clearly Explained! V2.0, StatQuest with Josh Starmer](https://youtu.be/p3T-_LMrvBc)\n",
    "- [Maximum Likelihood For the Normal Distribution, step-by-step!, StatQuest with Josh Starmer](https://youtu.be/Dn6b9fCIUpM)"
   ]
  }
 ],
 "metadata": {
  "kernelspec": {
   "display_name": "Python 3",
   "language": "python",
   "name": "python3"
  },
  "language_info": {
   "codemirror_mode": {
    "name": "ipython",
    "version": 3
   },
   "file_extension": ".py",
   "mimetype": "text/x-python",
   "name": "python",
   "nbconvert_exporter": "python",
   "pygments_lexer": "ipython3",
   "version": "3.8.3"
  }
 },
 "nbformat": 4,
 "nbformat_minor": 4
}
