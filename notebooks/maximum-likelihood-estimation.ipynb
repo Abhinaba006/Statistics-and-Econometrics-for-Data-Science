{
 "cells": [
  {
   "cell_type": "markdown",
   "metadata": {},
   "source": [
    "# Maximum Likelihood Estimation"
   ]
  },
  {
   "cell_type": "markdown",
   "metadata": {},
   "source": [
    "In this notebook, we will see what Maximum Likelihood Estimation is and how it can be used. \n",
    "\n",
    "The contents in this notebook are as follows:\n",
    "- **[1. Introduction](#introduction)**\n",
    "- **[2. Essential Mathematics](#essential-math)**\n",
    "- **[3. Probability Distributions, Mathematics and Codes](#distributions)**\n",
    "    - **[3.1 Bernoulli Distribution](#bernoulli)**\n",
    "    - **[3.2 Binomial Distribution](#binomial)**\n",
    "    - **[3.3 Poisson Distribution](#poisson)**\n",
    "    - **[3.4 Exponential Distribution](#exponential)**\n",
    "    - **[3.5 Normal Distribution](#normal)**\n",
    "- **[4. Applications](#applications)**\n",
    "- **[5. References](#references)**\n",
    "---"
   ]
  },
  {
   "cell_type": "markdown",
   "metadata": {},
   "source": [
    "## <a id=\"introduction\">1. Introduction</a>"
   ]
  },
  {
   "cell_type": "markdown",
   "metadata": {},
   "source": [
    "We often need to study populations for various purposes such as understanding its characteristics, for finding patterns and to devise better solutions using these information. However, for large populations, it is neither possible nor feasible to examine each individual in a population to understand these properties and characteristics. Hence, the statisticians make use of random sampling. The measurements are, therefore, made on much smaller samples for analysis and drawing conclusions about the population.\n",
    "\n",
    "Analysing the data becomes a lot more easier if we are able to identify a distribution for the population using the sample. Any probability distribution is uniquely defined by some parameters. Therefore, if we somehow find/identify these parameters, we can easily study the population. This process of finding parameters for the population by analysing the samples from that population is called **estimation**.\n",
    "\n",
    "We can say that whenever our estimation is good, we are **likelier** to obtain another sample from the population, which would be very similar to our original sample. In other words, more the chances of getting a similar sample with our estimates, more is the **likelihood** that our estimation is satisfactorily correct.\n",
    "\n",
    "Any probability distribution is defined by some parameters.\n",
    "- **What is maximum likelihood estimation?** <br>\n",
    "    - Process of determining the **most suitable parameters** for estimating a given sample with a probability distribution"
   ]
  },
  {
   "cell_type": "markdown",
   "metadata": {},
   "source": [
    "## <a id=\"essential-math\">2. Essential Mathematics</a>"
   ]
  },
  {
   "cell_type": "markdown",
   "metadata": {},
   "source": [
    "## <a id=\"distributions\">3. Probability Distributions, Mathematics and Codes</a>"
   ]
  },
  {
   "cell_type": "markdown",
   "metadata": {},
   "source": [
    "### <a id=\"bernoulli\">3.1 Bernoulli Distribution</a>"
   ]
  },
  {
   "cell_type": "markdown",
   "metadata": {},
   "source": [
    "### <a id=\"binomial\">3.2 Binomial Distribution</a>"
   ]
  },
  {
   "cell_type": "markdown",
   "metadata": {},
   "source": [
    "### <a id=\"poisson\">3.3 Poisson Distribution</a>"
   ]
  },
  {
   "cell_type": "markdown",
   "metadata": {},
   "source": [
    "### <a id=\"exponential\">3.4 Exponential Distribution</a>"
   ]
  },
  {
   "cell_type": "markdown",
   "metadata": {},
   "source": [
    "### <a id=\"normal\">3.5 Normal Distribution</a>"
   ]
  },
  {
   "cell_type": "markdown",
   "metadata": {},
   "source": [
    "## <a id=\"applications\">4. Applications</a>"
   ]
  },
  {
   "cell_type": "markdown",
   "metadata": {},
   "source": [
    "## <a id=\"references\">5. References</a>"
   ]
  }
 ],
 "metadata": {
  "kernelspec": {
   "display_name": "Python 3",
   "language": "python",
   "name": "python3"
  },
  "language_info": {
   "codemirror_mode": {
    "name": "ipython",
    "version": 3
   },
   "file_extension": ".py",
   "mimetype": "text/x-python",
   "name": "python",
   "nbconvert_exporter": "python",
   "pygments_lexer": "ipython3",
   "version": "3.8.3"
  }
 },
 "nbformat": 4,
 "nbformat_minor": 4
}
