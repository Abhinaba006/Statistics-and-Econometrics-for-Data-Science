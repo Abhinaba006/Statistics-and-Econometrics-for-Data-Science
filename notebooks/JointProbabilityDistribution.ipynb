{
 "cells": [
  {
   "cell_type": "markdown",
   "metadata": {},
   "source": [
    "# Joint Probability Distribution"
   ]
  },
  {
   "cell_type": "markdown",
   "metadata": {},
   "source": [
    "### Introduction\n",
    "\n",
    "Before starting with *Joint probabilty distribution* we can have a look at Probability Density Function.\n",
    "\n",
    "**Probability Density Function of a Discrete Random Variable**\n",
    "Let X be a discrete rv taking distinct values x1, x2, ... , xn, .... Then the function\n",
    "\n",
    " $$ f (x) = P(X = x_{i})   \\hspace{1cm}          for \\hspace{0.1cm} i = 1, 2, ... , n, ...$$\n",
    "  \n",
    " $$       = 0              \\hspace{1cm}          for \\hspace{0.1cm} x = x_{i}  $$  \n",
    "          \n",
    "               \n",
    "is called the **discrete probability density function** (PDF) of X, where P(X = $x_{i}$) means the probability that the discrete rv X takes the value of $x_{i}$ .   \n",
    "\n",
    "**Probability Density Function of a Continuous Random Variable**\n",
    "Let X be a continuous rv. Then f(x) is said to be the PDF of X if the following conditions\n",
    "are satisfied:  \n",
    "\n",
    "\n",
    "$$f(x) ≥ 0 $$\n",
    "                    \n",
    "$$ \\int_{−∞}^∞ f(x) = 1  $$\n",
    "                    \n",
    "$$ \\int_a^b f(x) = P(a ≤ x ≤ b) $$\n",
    "\n",
    "\n",
    "where f (x) dx is known as the probability element (the probability associated with a small interval of a continuous variable) and where P(a ≤ x ≤ b) means the probability that X lies in the interval a to b.\n",
    "For a continuous rv, in contrast with a discrete rv, the probability that X takes a specific\n",
    "value is zero;$x^{3}$ probability for such a variable is measurable only over a given range or interval, such as (a, b).\n"
   ]
  },
  {
   "cell_type": "markdown",
   "metadata": {},
   "source": [
    "###  Joint Probability Distribution\n",
    "\n",
    "The joint probability distribution can be expressed either in terms of a **joint cumulative distribution function** or in terms of a **joint probability density function** (in the case of continuous variables) or **joint probability mass function** (in the case of discrete variables). \n",
    "\n",
    "These in turn can be used to find two other types of distributions: the **marginal distribution** giving the probabilities for any one of the variables with no reference to any specific ranges of values for the other variables, and the **conditional probability distribution** giving the probabilities for any subset of the variables conditional on particular values of the remaining variables.  \n",
    "\n",
    "**Joint Probability Density Function**   \n",
    "\n",
    "Let X and Y be two discrete random variables. Then the function\n",
    "\n",
    "\n",
    "$$f (x, y) = P(X = x \\hspace{0.1cm}and\\hspace{0.1cm} Y = y)$$  \n",
    "\n",
    "$$ \\hspace{3.5cm} = 0 \\hspace{1cm}when \\hspace{0.1cm}X \\neq x  \\hspace{0.2cm}and \\hspace{0.2cm} Y \\neq y$$\n",
    "\n",
    "is known as the discrete joint probability density function and gives the (joint) probability that X takes the value of x and Y takes the value of y.\n",
    "\n"
   ]
  },
  {
   "cell_type": "markdown",
   "metadata": {},
   "source": [
    "### Marginal Probability Distribution\n",
    "\n",
    "In probability theory and statistics, the marginal distribution of a subset of a collection of [random variables](https://en.wikipedia.org/wiki/Random_variable) is the [probability distribution](https://en.wikipedia.org/wiki/Probability_distribution) of the variables contained in the subset. It gives the probabilities of various values of the variables in the subset without reference to the values of the other variables.\n",
    "\n",
    "The **marginal probability** is the probability of a single event occurring, independent of other events.\n",
    "\n",
    "**Marginal Probability Density Function**  \n",
    "\n",
    "In relation to *f (x, y), f (x) and f (y)* are called individual, or marginal, probability density functions. These marginal PDFs are derived as follows: \n",
    "\n",
    "$$f (x) = \\sum_{y}f (x, y)  \\hspace{1cm} marginal\\hspace{0.1cm} PDF\\hspace{0.2cm} of\\hspace{0.2cm} X$$ \n",
    "\n",
    "$$f (y) = \\sum_{x}f (x, y)  \\hspace{1cm} marginal\\hspace{0.1cm} PDF \\hspace{0.2cm}of\\hspace{0.2cm} Y$$\n",
    "\n",
    "where, for example $\\sum_{y}$,  means the sum over all values of Y and $\\sum_{x}$ means the sum over all values of X."
   ]
  },
  {
   "cell_type": "markdown",
   "metadata": {},
   "source": [
    "### Conditional Probability Distribution\n",
    "\n",
    "A conditional probability, is the probability that an event occurs given that another specific event has already occurred. This means that the calculation for one variable is dependent on another variable.  \n",
    "\n",
    "In probability theory and statistics, given two jointly distributed random variables X and Y, the conditional probability distribution of Y given X is the probability distribution of Y when X is known to be a particular value; in some cases the conditional probabilities may be expressed as functions containing the unspecified value x of X as a parameter. When both X and Y are categorical variables, a conditional probability table is typically used to represent the conditional probability.\n",
    "\n",
    "**Conditional PDF**\n",
    "\n",
    "The function \n",
    "$$f (x | y) = P(X = x | Y = y)$$ \n",
    "\n",
    "is known as the conditional PDF of X; it gives the probability that X takes on the value of x given that Y has assumed the value y. Similarly,\n",
    "$$f (y | x) = P(Y = y | X = x)$$\n",
    "\n",
    "which gives the conditional PDF of Y.\n",
    "The conditional PDFs may be obtained as follows: \n",
    "\n",
    "$$f(x | y) = \\frac{f (x, y)}{f (y)} \\hspace{1cm}conditional PDF\\ of\\ X$$\n",
    "$$f (y | x) = \\frac{f (x, y)}{f (x)} \\hspace{1cm} conditional PDF\\ of\\ Y $$\n",
    "As the preceding expressions show, the conditional PDF of one variable can be expressed\n",
    "as the ratio of the joint PDF to the marginal PDF of another (conditioning) variable"
   ]
  },
  {
   "cell_type": "code",
   "execution_count": null,
   "metadata": {},
   "outputs": [],
   "source": []
  }
 ],
 "metadata": {
  "kernelspec": {
   "display_name": "Python 3",
   "language": "python",
   "name": "python3"
  },
  "language_info": {
   "codemirror_mode": {
    "name": "ipython",
    "version": 3
   },
   "file_extension": ".py",
   "mimetype": "text/x-python",
   "name": "python",
   "nbconvert_exporter": "python",
   "pygments_lexer": "ipython3",
   "version": "3.8.3"
  }
 },
 "nbformat": 4,
 "nbformat_minor": 4
}
