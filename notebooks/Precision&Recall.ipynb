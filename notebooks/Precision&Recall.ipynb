{
 "cells": [
  {
   "cell_type": "code",
   "execution_count": 19,
   "metadata": {},
   "outputs": [],
   "source": [
    "###################\n",
    "# Peformance Analysis\n",
    "#  After having played with the data and using sophisticated algorithms, you finally develop a model.\n",
    "#  But how to analyse and evaluate and rate the performance of your model.\n",
    "#  There are various performance metrics depending on the type of your problem(classification,regression,etc.)\n",
    "#  We look into some important figure of merits for a classification(binary) model.\n",
    "###################\n",
    "import pandas as pd\n",
    "import numpy as np\n",
    "import matplotlib.pyplot as plt\n",
    "from sklearn.linear_model import LogisticRegression\n",
    "from sklearn.tree import DecisionTreeClassifier\n",
    "from sklearn.preprocessing import StandardScaler\n",
    "import sklearn.metrics as measr\n",
    "%matplotlib inline"
   ]
  },
  {
   "cell_type": "markdown",
   "metadata": {},
   "source": [
    "<h3>0. Example Model</h3>\n",
    "Take a quick glance at the example model and get the gist. It is not important to understand the model completely."
   ]
  },
  {
   "cell_type": "code",
   "execution_count": 2,
   "metadata": {},
   "outputs": [
    {
     "name": "stdout",
     "output_type": "stream",
     "text": [
      "(891, 12)\n",
      "29.69911764705882\n"
     ]
    },
    {
     "data": {
      "text/html": [
       "<div>\n",
       "<style scoped>\n",
       "    .dataframe tbody tr th:only-of-type {\n",
       "        vertical-align: middle;\n",
       "    }\n",
       "\n",
       "    .dataframe tbody tr th {\n",
       "        vertical-align: top;\n",
       "    }\n",
       "\n",
       "    .dataframe thead th {\n",
       "        text-align: right;\n",
       "    }\n",
       "</style>\n",
       "<table border=\"1\" class=\"dataframe\">\n",
       "  <thead>\n",
       "    <tr style=\"text-align: right;\">\n",
       "      <th></th>\n",
       "      <th>PassengerId</th>\n",
       "      <th>Survived</th>\n",
       "      <th>Pclass</th>\n",
       "      <th>Name</th>\n",
       "      <th>Sex</th>\n",
       "      <th>Age</th>\n",
       "      <th>SibSp</th>\n",
       "      <th>Parch</th>\n",
       "      <th>Ticket</th>\n",
       "      <th>Fare</th>\n",
       "      <th>Cabin</th>\n",
       "      <th>Embarked</th>\n",
       "    </tr>\n",
       "  </thead>\n",
       "  <tbody>\n",
       "    <tr>\n",
       "      <th>0</th>\n",
       "      <td>1</td>\n",
       "      <td>0</td>\n",
       "      <td>3</td>\n",
       "      <td>Braund, Mr. Owen Harris</td>\n",
       "      <td>0</td>\n",
       "      <td>22.0</td>\n",
       "      <td>1</td>\n",
       "      <td>0</td>\n",
       "      <td>A/5 21171</td>\n",
       "      <td>7.2500</td>\n",
       "      <td>NaN</td>\n",
       "      <td>S</td>\n",
       "    </tr>\n",
       "    <tr>\n",
       "      <th>1</th>\n",
       "      <td>2</td>\n",
       "      <td>1</td>\n",
       "      <td>1</td>\n",
       "      <td>Cumings, Mrs. John Bradley (Florence Briggs Th...</td>\n",
       "      <td>1</td>\n",
       "      <td>38.0</td>\n",
       "      <td>1</td>\n",
       "      <td>0</td>\n",
       "      <td>PC 17599</td>\n",
       "      <td>71.2833</td>\n",
       "      <td>C85</td>\n",
       "      <td>C</td>\n",
       "    </tr>\n",
       "    <tr>\n",
       "      <th>2</th>\n",
       "      <td>3</td>\n",
       "      <td>1</td>\n",
       "      <td>3</td>\n",
       "      <td>Heikkinen, Miss. Laina</td>\n",
       "      <td>1</td>\n",
       "      <td>26.0</td>\n",
       "      <td>0</td>\n",
       "      <td>0</td>\n",
       "      <td>STON/O2. 3101282</td>\n",
       "      <td>7.9250</td>\n",
       "      <td>NaN</td>\n",
       "      <td>S</td>\n",
       "    </tr>\n",
       "    <tr>\n",
       "      <th>3</th>\n",
       "      <td>4</td>\n",
       "      <td>1</td>\n",
       "      <td>1</td>\n",
       "      <td>Futrelle, Mrs. Jacques Heath (Lily May Peel)</td>\n",
       "      <td>1</td>\n",
       "      <td>35.0</td>\n",
       "      <td>1</td>\n",
       "      <td>0</td>\n",
       "      <td>113803</td>\n",
       "      <td>53.1000</td>\n",
       "      <td>C123</td>\n",
       "      <td>S</td>\n",
       "    </tr>\n",
       "    <tr>\n",
       "      <th>4</th>\n",
       "      <td>5</td>\n",
       "      <td>0</td>\n",
       "      <td>3</td>\n",
       "      <td>Allen, Mr. William Henry</td>\n",
       "      <td>0</td>\n",
       "      <td>35.0</td>\n",
       "      <td>0</td>\n",
       "      <td>0</td>\n",
       "      <td>373450</td>\n",
       "      <td>8.0500</td>\n",
       "      <td>NaN</td>\n",
       "      <td>S</td>\n",
       "    </tr>\n",
       "  </tbody>\n",
       "</table>\n",
       "</div>"
      ],
      "text/plain": [
       "   PassengerId  Survived  Pclass  \\\n",
       "0            1         0       3   \n",
       "1            2         1       1   \n",
       "2            3         1       3   \n",
       "3            4         1       1   \n",
       "4            5         0       3   \n",
       "\n",
       "                                                Name Sex   Age  SibSp  Parch  \\\n",
       "0                            Braund, Mr. Owen Harris   0  22.0      1      0   \n",
       "1  Cumings, Mrs. John Bradley (Florence Briggs Th...   1  38.0      1      0   \n",
       "2                             Heikkinen, Miss. Laina   1  26.0      0      0   \n",
       "3       Futrelle, Mrs. Jacques Heath (Lily May Peel)   1  35.0      1      0   \n",
       "4                           Allen, Mr. William Henry   0  35.0      0      0   \n",
       "\n",
       "             Ticket     Fare Cabin Embarked  \n",
       "0         A/5 21171   7.2500   NaN        S  \n",
       "1          PC 17599  71.2833   C85        C  \n",
       "2  STON/O2. 3101282   7.9250   NaN        S  \n",
       "3            113803  53.1000  C123        S  \n",
       "4            373450   8.0500   NaN        S  "
      ]
     },
     "execution_count": 2,
     "metadata": {},
     "output_type": "execute_result"
    }
   ],
   "source": [
    "### Example Model ###\n",
    "### Titanic Dataset : Binary classification on the chance of survival given passenger details ###\n",
    "### Get the dataset on https://www.kaggle.com/c/titanic/data \n",
    "### Model : Logistic Regression \n",
    "train_data = pd.read_csv(\"Downloads/train.csv\")\n",
    "print(train_data.shape)\n",
    "train_data.head()\n",
    "# Reassigning male and female string to more 'modellable' values\n",
    "for i in range(train_data.shape[0]):\n",
    "    if(train_data['Sex'][i] == 'male'):\n",
    "        train_data['Sex'].values[i] = '0'\n",
    "    if(train_data['Sex'][i] == 'female'):\n",
    "        train_data['Sex'].values[i] = '1'\n",
    "train_data.head()\n",
    "mean = train_data['Age'].mean(axis = 0, skipna = True)\n",
    "print(mean)\n",
    "#Reassigning the NaN values in Age with the mean of the ages\n",
    "for i in range(train_data.shape[0]):\n",
    "    if(pd.isnull(train_data['Age'][i]) == True):\n",
    "        train_data['Age'].values[i] = mean\n",
    "train_data.head()"
   ]
  },
  {
   "cell_type": "code",
   "execution_count": 3,
   "metadata": {},
   "outputs": [
    {
     "name": "stdout",
     "output_type": "stream",
     "text": [
      "(5, 891) (891,)\n",
      "(418, 2)\n"
     ]
    }
   ],
   "source": [
    "#Isolating trainable features\n",
    "features = ['Pclass', 'Sex', 'Age', 'SibSp', 'Parch']\n",
    "X_train = np.array([train_data['Pclass'].values, train_data['Age'].values, train_data['SibSp'].values, train_data['Parch'].values, train_data['Sex'].values])\n",
    "Y_train = np.array(train_data['Survived'].values)\n",
    "print(X_train.shape, Y_train.shape)\n",
    "\n",
    "#Scikit Learn's Logistic Regression Model \n",
    "logReg = LogisticRegression()\n",
    "logReg.fit(X_train.T, Y_train)\n",
    "\n",
    "#Preprocessing test data\n",
    "test_data = pd.read_csv(\"Downloads/test.csv\")\n",
    "for i in range(test_data.shape[0]):\n",
    "    if(test_data['Sex'][i] == 'male'):\n",
    "        test_data['Sex'].values[i] = '0'\n",
    "    if(test_data['Sex'][i] == 'female'):\n",
    "        test_data['Sex'].values[i] = '1'\n",
    "meant = test_data['Age'].mean(axis = 0, skipna = True)\n",
    "for i in range(test_data.shape[0]):\n",
    "    if(pd.isnull(test_data['Age'][i]) == True):\n",
    "        test_data['Age'].values[i] = meant\n",
    "X_test = np.array([test_data['Pclass'].values, test_data['Age'].values, test_data['SibSp'].values, test_data['Parch'].values, test_data['Sex'].values])\n",
    "#the model predicted values\n",
    "Y_pred = logReg.predict(X_test.T)\n",
    "\n",
    "#the actual test values\n",
    "ans_key = pd.read_csv(\"Downloads/submission.csv\")\n",
    "print(ans_key.shape)\n",
    "ans_key.head()\n",
    "Y_test = ans_key['Survived'].values"
   ]
  },
  {
   "cell_type": "markdown",
   "metadata": {},
   "source": [
    "<h3> 1. Outcomes and Confusion Matrix</h3>\n",
    "\n",
    "<p>For a binary classification algorithm, the prediction by the model on a test data example can relate to the actual outcome in one of the following ways :</p> \n",
    " <ol>\n",
    "   <li> Actual : 1, Predicted : 1 --- True Positive TP\n",
    "   <li> Actual : 0, Predicted : 1 --- False Postive FP\n",
    "   <li> Actual : 1, Predicted : 0 --- False Negative FN\n",
    "   <li> Actual : 0, Predicted : 0 --- True Negative TN\n",
    " </ol>\n",
    " <p>The number of TPs, FPs, TNs and FNs are counted for the entire set. We compile these results in a tabular form in the CONFUSION MATRIX.</p>\n",
    " <table>\n",
    "    <thead>\n",
    "        <tr>\n",
    "            <th>Pred.</th>\n",
    "            <th>0</th>\n",
    "            <th>1</th>\n",
    "        </tr>\n",
    "        <tr>\n",
    "            <th>Actual</th>\n",
    "            <th> </th>\n",
    "            <th> </th>\n",
    "        </tr>\n",
    "    </thead>\n",
    "    <tbody>\n",
    "        <tr> \n",
    "            <th>0</th>\n",
    "            <td>#TN</td>\n",
    "            <td>#FP</td>\n",
    "        </tr>\n",
    "        <tr> \n",
    "            <th>1</th>\n",
    "            <td>#FN</td>\n",
    "            <td>#TP</td>\n",
    "        </tr>\n",
    "    </tbody> \n",
    " </table> "
   ]
  },
  {
   "cell_type": "code",
   "execution_count": 4,
   "metadata": {},
   "outputs": [
    {
     "name": "stdout",
     "output_type": "stream",
     "text": [
      "208 52\n",
      "50 108\n",
      "[[208  52]\n",
      " [ 50 108]]\n"
     ]
    }
   ],
   "source": [
    "#Manual Computation of Confusion Matrix\n",
    "tp = 0\n",
    "tn = 0\n",
    "fp = 0\n",
    "fn = 0\n",
    "for i in range(ans_key.shape[0]):\n",
    "    if(Y_pred[i] == 1 and ans_key['Survived'][i] == 1):\n",
    "        tp+=1\n",
    "    if(Y_pred[i] == 1 and ans_key['Survived'][i] == 0):\n",
    "        fp+=1\n",
    "    if(Y_pred[i] == 0 and ans_key['Survived'][i] == 1):\n",
    "        fn+=1\n",
    "    if(Y_pred[i] == 0 and ans_key['Survived'][i] == 0):\n",
    "        tn+=1\n",
    "print(tn, fp)\n",
    "print(fn, tp)\n",
    "\n",
    "#Using sklearn's confusion_matrix\n",
    "print(measr.confusion_matrix(Y_test, Y_pred))"
   ]
  },
  {
   "cell_type": "markdown",
   "metadata": {},
   "source": [
    "<h3>2. Evaluation Metrics - Accuracy, Precision & Recall</h3>"
   ]
  },
  {
   "cell_type": "markdown",
   "metadata": {},
   "source": [
    " <p>Now that we have the confusion matrix ready, we will look into precision and recall, some important model evaluation metrics.</p>\n",
    "\n",
    "\n",
    " (1) <b>Accuracy</b> is simply the ratio of all correctly classified examples to all the examples. The accuracy measure is intuitive as good estimate of the performance of the model but it is not suited for an imbalanced classification problem which are quite common in everyday applications.\n",
    " \n",
    " $$\n",
    " Accuracy = \\frac{True Positives(TP) + True Negatives(TN)}{True Positives(TP) + True Negatives(TN) + False Positives(FP) + False Negatives(TN)}\n",
    " $$\n",
    "   <br>For example, if we have a spam classifier or a disease detection model where the disease rate is low. Suppose in such a problem we may get one or two spam mails or one or two postive patients as opposed to the hundreds of important mails we get or thousands of patients we scan for the disease. \n",
    "   <br>In such a case simple accuracy calculation is not a good evaluation strategy since we can get around 95-99% accuracy if we simply label every email as not spam or every patient as negative. But in these problems the positive example space is largely undermined by the more numerous negative examples, however we are more concerned with the performance on postive examples while the accuracy evaluation does not provide any insight into the problem. We turn to a more positive-example emphasizing measures of performance.\n",
    " \n",
    " \n",
    " (2) <b>Recall</b> is the ratio of the correctly identified positives to all the actual postives. It is the measure of the ability of the model to identify all the positive examples.\n",
    " \n",
    " $$\n",
    " Recall = \\frac{True Positives(TP)}{True Positives(TP) + False Negatives(FN)}\n",
    " $$\n",
    "<br>A recall value close to 1.00 is an indicator that the model identifies all the positive examples. But there is a caveat, if we know label each email as spam or each patient as diseased then we get a recall of 1 since we never a positive but the model is not actually classifying. By this reasoning we understand that maximizing recall alone cannot guarantee a good classifier. \n",
    "\n",
    " (3) <b>Precision</b> is the ratio of the correctly classified positive examples to all the examples that are either correctly or incorrectly classified as positives. \n",
    " \n",
    " $$\n",
    " Precision = \\frac{True Positives(TP)}{True Positives(TP) + False Positives(FP)}\n",
    " $$\n",
    " <br>The precision value is actually a measure of the ability of the model to correctly identify only the positive examples in the dataset. Together with recall, we can judge the performance of a classifier.\n",
    " <br>In other words, high precision guarantees that no negative examples will be flagged positive while a high recall guarantees all the positive examples will be flagged positive."
   ]
  },
  {
   "cell_type": "code",
   "execution_count": 5,
   "metadata": {},
   "outputs": [
    {
     "name": "stdout",
     "output_type": "stream",
     "text": [
      "accuracy :  0.7559808612440191\n",
      "recall :  0.6835443037974683\n",
      "precision :  0.675\n"
     ]
    }
   ],
   "source": [
    "#accuracy\n",
    "accuracy = (tp+tn)/(tp+tn+fp+fn)\n",
    "print(\"accuracy : \", accuracy)\n",
    "#recall\n",
    "recall = tp/(tp+fn)\n",
    "print(\"recall : \", recall)\n",
    "#precision\n",
    "precision = tp/(tp+fp)\n",
    "print(\"precision : \", precision)"
   ]
  },
  {
   "cell_type": "code",
   "execution_count": 6,
   "metadata": {},
   "outputs": [
    {
     "name": "stdout",
     "output_type": "stream",
     "text": [
      "accuracy :  0.7559808612440191\n",
      "recall :  0.6835443037974683\n",
      "precision :  0.675\n"
     ]
    }
   ],
   "source": [
    "# There are library functions in sklearn for precision, recall\n",
    "print(\"accuracy : \", measr.accuracy_score(Y_test, Y_pred))\n",
    "print(\"recall : \", measr.recall_score(Y_test, Y_pred))\n",
    "print(\"precision : \", measr.precision_score(Y_test, Y_pred))"
   ]
  },
  {
   "cell_type": "markdown",
   "metadata": {},
   "source": [
    "<h3>3. Precision-Recall Tradeoff and F1 Score"
   ]
  },
  {
   "cell_type": "markdown",
   "metadata": {},
   "source": [
    "<p>It is easy to see that our goal is a high precision-high recall model, that is, a model that correctly identifes all positives examples while not misjudging any negative example. This goal now prevents the earlier model where we flagged every mail as spam and every patient as diseased, since this model has a very low precision though the recall is high.</p>\n",
    "<p>Now on the contrary lets imagine a model that identifies just one positive example correctly. This has a high precision of 1.00 since it has not mislabelled any example as positive but it surely has missed a lot of positive examples and hence its recall is low.</p>\n",
    "<p>This is the crux of the <b>precision-recall tradeoff</b> that is observed very often in practice.\n",
    "Whether to emphasize more on high precision or high recall is dependent on the application an the result we desire. For example in the disease detection problem we may desire that no positive(diseased person) is left out and so we may focus on a high recall model than a precision model that misses out a few positve examples. In a spam classifier we may want a high precision model so that the user may not miss any important mail that was misclassified as a positive(spam) than a high recall model that classifies every spam email but may also classify your acceptance letter as spam ;(</p>\n",
    "<p>Most of the times, the problem may not require extremely high recall or precision, but a balanced maximization of both of them, we combine the two figures in a single performance metric called the <b>F1 Score</b>.</p>\n",
    "\n",
    "$$\n",
    "F1\\ Score = 2\\cdot\\frac{Precision \\times Recall}{Precision + Recall}\n",
    "$$\n",
    "<p>The F1 Score is the harmonic mean of the precision and recall that gives equal weightage to both precision and recall values and the modified goal is to maximize the F1 Score. The harmonic mean penalizes the extreme cases like precision = 1 and recall = 0 and vice versa, thus giving a balanced evaluation metric.</p>"
   ]
  },
  {
   "cell_type": "code",
   "execution_count": 20,
   "metadata": {},
   "outputs": [
    {
     "name": "stdout",
     "output_type": "stream",
     "text": [
      "F1 Score(formulae) :  0.679245283018868\n",
      "F1 Score(sklearn) :  0.679245283018868\n"
     ]
    },
    {
     "data": {
      "text/plain": [
       "<sklearn.metrics._plot.precision_recall_curve.PrecisionRecallDisplay at 0x7fa3b21b6820>"
      ]
     },
     "execution_count": 20,
     "metadata": {},
     "output_type": "execute_result"
    },
    {
     "data": {
      "image/png": "[encoded data removed]",
      "text/plain": [
       "<Figure size 432x288 with 1 Axes>"
      ]
     },
     "metadata": {
      "needs_background": "light"
     },
     "output_type": "display_data"
    }
   ],
   "source": [
    "#f1 score\n",
    "print(\"F1 Score(formulae) : \", (2 * precision * recall)/(precision + recall))\n",
    "# From sklearn.metrics library function\n",
    "print(\"F1 Score(sklearn) : \", measr.f1_score(Y_test, Y_pred))\n",
    "## An example of how precision and recall varies with respect to each other\n",
    "## where the tradeoff can be easily visualised.\n",
    "measr.plot_precision_recall_curve(logReg, X_test.T, Y_test)"
   ]
  },
  {
   "cell_type": "code",
   "execution_count": 21,
   "metadata": {},
   "outputs": [
    {
     "name": "stdout",
     "output_type": "stream",
     "text": [
      "              precision    recall  f1-score   support\n",
      "\n",
      "           0       0.81      0.80      0.80       260\n",
      "           1       0.68      0.68      0.68       158\n",
      "\n",
      "    accuracy                           0.76       418\n",
      "   macro avg       0.74      0.74      0.74       418\n",
      "weighted avg       0.76      0.76      0.76       418\n",
      "\n"
     ]
    }
   ],
   "source": [
    "#everything in one go\n",
    "print(measr.classification_report(Y_test,Y_pred))\n",
    "##note: in the classification_report output there is precision and recall consider both 0 and 1 as a positive examples"
   ]
  },
  {
   "cell_type": "markdown",
   "metadata": {},
   "source": [
    "<h3>4. Precision and Recall in Multiclass Classification</h3>\n",
    "\n",
    "<p>The above definitions have been limited to a binary classifier model, but we can easily extend the definition of each of the above to a multiclass classifier model. We take an example of a 4-class classifier{0,1,2,3}</p>\n",
    "\n",
    "<p>The confusion matrix is then defined as $4\\times 4$ matrix $A = [a_{ij}]$ where $a_{ij}$ denotes the number of cases where the predicted class was i but the actual class was j where both $i,j\\in \\{0,1,2,3\\}$</p>\n",
    "<table>\n",
    "    <thead>\n",
    "        <tr>\n",
    "            <th>Pred.</th>\n",
    "            <th>$0$</th>\n",
    "            <th>$1$</th>\n",
    "            <th>$2$</th>\n",
    "            <th>$3$</th>\n",
    "        </tr>\n",
    "        <tr>\n",
    "            <th>Actual</th>\n",
    "        </tr>\n",
    "    </thead>\n",
    "    <tbody>\n",
    "        <tr> \n",
    "            <th>$0$</th>\n",
    "            <td>$a_{00}$</td>\n",
    "            <td>$a_{10}$</td>\n",
    "            <td>$a_{20}$</td>\n",
    "            <td>$a_{30}$</td>\n",
    "        </tr>\n",
    "        <tr> \n",
    "            <th>$1$</th>\n",
    "            <td>$a_{01}$</td>\n",
    "            <td>$a_{11}$</td>\n",
    "            <td>$a_{21}$</td>\n",
    "            <td>$a_{31}$</td>\n",
    "        </tr>\n",
    "         <tr> \n",
    "            <th>$2$</th>\n",
    "            <td>$a_{02}$</td>\n",
    "            <td>$a_{12}$</td>\n",
    "            <td>$a_{22}$</td>\n",
    "            <td>$a_{32}$</td>\n",
    "        </tr>\n",
    "         <tr> \n",
    "            <th>$3$</th>\n",
    "            <td>$a_{03}$</td>\n",
    "            <td>$a_{13}$</td>\n",
    "            <td>$a_{23}$</td>\n",
    "            <td>$a_{33}$</td>\n",
    "        </tr>\n",
    "    </tbody> \n",
    " </table> \n",
    " \n",
    "<p>Now we can define accuracy, recall and precision as a simple extension of the definitions we used above,\n",
    "<ul>\n",
    "    <li> Accuracy - truly identified examples divided by the total number of examples.\n",
    "    <li> Recall - ratio of truly identified positive examples (say category 0) to the actual number of category 0 examples.\n",
    "    <li> Precision - ratio of truly identified positive examples (category 0) to the all the predicted positives(category 0, here).\n",
    "</ul>\n",
    "$$\n",
    "Accuracy = \\frac{\\sum_{i=0}^{3} a_{ii}}{\\sum_{0\\leq i,j\\leq 3} a_{ij}}\n",
    "$$\n",
    "\n",
    "Note that any class can be considered as a positive example and precision and recall can be calculated from the confusion matrix.\n",
    "<p> For example, considering 0 as the positive class we can write the formulae for precision and recall as :</p>\n",
    "<hr>\n",
    "$$\n",
    "Recall = \\frac{a_{00}}{\\sum_{i=0}^{3} a_{i0}}\n",
    "$$\n",
    "<hr>\n",
    "$$\n",
    "Precision = \\frac{a_{00}}{\\sum_{i=0}^{3} a_{0i}}\n",
    "$$\n",
    "\n",
    "An easy way to get precision and recall is to print the classification report using the above sklearn.metrics function <em>classification_report</em> which calculates the values considering each class a positive turn by turn and then consider the actual positive value."
   ]
  },
  {
   "cell_type": "code",
   "execution_count": null,
   "metadata": {},
   "outputs": [],
   "source": []
  }
 ],
 "metadata": {
  "kernelspec": {
   "display_name": "Python 3",
   "language": "python",
   "name": "python3"
  },
  "language_info": {
   "codemirror_mode": {
    "name": "ipython",
    "version": 3
   },
   "file_extension": ".py",
   "mimetype": "text/x-python",
   "name": "python",
   "nbconvert_exporter": "python",
   "pygments_lexer": "ipython3",
   "version": "3.8.5"
  }
 },
 "nbformat": 4,
 "nbformat_minor": 4
}
