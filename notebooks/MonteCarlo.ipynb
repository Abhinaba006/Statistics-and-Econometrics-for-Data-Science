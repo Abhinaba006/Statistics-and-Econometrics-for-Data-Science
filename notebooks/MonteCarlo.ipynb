{
 "cells": [
  {
   "cell_type": "markdown",
   "metadata": {},
   "source": [
    "# Monte Carlo Methods for Estimation\n",
    "\n",
    "Monte Carlo methods, or Monte Carlo experiments, are a broad class of computational algorithms that rely on repeated random sampling to obtain numerical results. The underlying concept is to use randomness to solve problems that might be deterministic in principle. \n",
    "\n",
    "First we will see how Monte Carlo Methods are used for estimation and for this we will be taking the most common example of the estimation of value of **Pi** .  \n",
    "\n",
    "To estimate the value of **Pi** we will be taking a circle drawn inside a square and we will randomly try throwing darts , in the form of random numbers and we will approximate that the number lies inside the circle or not. So, this way we will get the number of points which lie inside circle and the ones which do not. \n",
    "\n",
    "So,  \n",
    "Approximation of value of pi :  $\\frac{Area of circle}{Area of square}$ \n",
    "\n",
    "$$=\\frac{\\pi r^2}{4 * r^2}$$ \n",
    "\n",
    "$$=\\frac{\\pi}{4}$$  \n",
    "\n",
    "Approximate of value of pi = $4 * \\frac{Area of circle}{Area of square}$"
   ]
  },
  {
   "cell_type": "code",
   "execution_count": 10,
   "metadata": {},
   "outputs": [
    {
     "name": "stdout",
     "output_type": "stream",
     "text": [
      "7876\n",
      "2125\n",
      "The approximate value of Pi : 3.1504\n",
      "The actual value of Pi : 3.141592653589793\n"
     ]
    },
    {
     "ename": "TypeError",
     "evalue": "float() argument must be a string or a number, not 'list'",
     "output_type": "error",
     "traceback": [
      "\u001b[1;31m---------------------------------------------------------------------------\u001b[0m",
      "\u001b[1;31mTypeError\u001b[0m                                 Traceback (most recent call last)",
      "\u001b[1;32m<ipython-input-10-289536e41ad9>\u001b[0m in \u001b[0;36m<module>\u001b[1;34m\u001b[0m\n\u001b[0;32m     40\u001b[0m \u001b[0mplt\u001b[0m\u001b[1;33m.\u001b[0m\u001b[0mscatter\u001b[0m\u001b[1;33m(\u001b[0m\u001b[0msquarex\u001b[0m\u001b[1;33m,\u001b[0m\u001b[0msquarey\u001b[0m\u001b[1;33m,\u001b[0m\u001b[0mcolor\u001b[0m\u001b[1;33m=\u001b[0m\u001b[1;34m'g'\u001b[0m\u001b[1;33m)\u001b[0m\u001b[1;33m\u001b[0m\u001b[1;33m\u001b[0m\u001b[0m\n\u001b[0;32m     41\u001b[0m \u001b[1;33m\u001b[0m\u001b[0m\n\u001b[1;32m---> 42\u001b[1;33m \u001b[0mstnd\u001b[0m \u001b[1;33m=\u001b[0m \u001b[0mfloat\u001b[0m\u001b[1;33m(\u001b[0m\u001b[0mcirclex\u001b[0m\u001b[1;33m)\u001b[0m\u001b[1;33m*\u001b[0m\u001b[1;33m(\u001b[0m\u001b[1;36m4\u001b[0m\u001b[1;33m-\u001b[0m\u001b[0mnp\u001b[0m\u001b[1;33m.\u001b[0m\u001b[0mpi\u001b[0m\u001b[1;33m)\u001b[0m\u001b[1;33m**\u001b[0m\u001b[1;36m2\u001b[0m\u001b[1;33m-\u001b[0m\u001b[0mfloat\u001b[0m\u001b[1;33m(\u001b[0m\u001b[0msquarex\u001b[0m\u001b[1;33m)\u001b[0m\u001b[1;33m*\u001b[0m\u001b[1;33m(\u001b[0m\u001b[1;36m0\u001b[0m\u001b[1;33m-\u001b[0m\u001b[0mnp\u001b[0m\u001b[1;33m.\u001b[0m\u001b[0mpi\u001b[0m\u001b[1;33m)\u001b[0m\u001b[1;33m**\u001b[0m\u001b[1;36m2\u001b[0m\u001b[1;33m\u001b[0m\u001b[1;33m\u001b[0m\u001b[0m\n\u001b[0m",
      "\u001b[1;31mTypeError\u001b[0m: float() argument must be a string or a number, not 'list'"
     ]
    },
    {
     "data": {
      "image/png": "[encoded data removed]",
      "text/plain": [
       "<Figure size 432x288 with 1 Axes>"
      ]
     },
     "metadata": {
      "needs_background": "light"
     },
     "output_type": "display_data"
    }
   ],
   "source": [
    "%matplotlib inline\n",
    "from numpy import random\n",
    "import numpy as np\n",
    "import matplotlib.pyplot as plt\n",
    "\n",
    "# darts\n",
    "N = 10000\n",
    "\n",
    "# lists which will take the x and y values of random variables and which lie inside circle  \n",
    "circlex = []\n",
    "circley = []  \n",
    "\n",
    "# lists which will take the x and y values of random variables and which lie inside square  \n",
    "squarex = []\n",
    "squarey = []  \n",
    "\n",
    "i=0\n",
    "while i<= N:\n",
    "    x = random.uniform(-1,1)\n",
    "    y = random.uniform(-1,1)\n",
    "    if(x**2+y**2<=1):\n",
    "        circlex.append(x)\n",
    "        circley.append(y)\n",
    "    else:\n",
    "        squarex.append(x)\n",
    "        squarey.append(y)\n",
    "    i+=1\n",
    "\n",
    "print(len(circlex))\n",
    "print(len(squarex))\n",
    "pi = 4*len(circlex)/float(N)  \n",
    "\n",
    "print(\"The approximate value of Pi :\",pi)\n",
    "print(\"The actual value of Pi :\",np.pi)\n",
    "\n",
    "# Visualising  \n",
    "\n",
    "plt.grid()\n",
    "plt.scatter(circlex,circley,color='b')\n",
    "plt.scatter(squarex,squarey,color='g')\n",
    "\n"
   ]
  },
  {
   "cell_type": "markdown",
   "metadata": {},
   "source": [
    "**Standard Deviation** \n",
    "\n",
    "As you will remember, the square root of the variance is the standard deviation, which gives a measure of the variation expected in the individual sample.\n"
   ]
  },
  {
   "cell_type": "code",
   "execution_count": 18,
   "metadata": {},
   "outputs": [
    {
     "data": {
      "text/plain": [
       "163.635"
      ]
     },
     "execution_count": 18,
     "metadata": {},
     "output_type": "execute_result"
    }
   ],
   "source": [
    "# Standard Deviation in value of Pi\n",
    "\n",
    "stnd = len(circlex)*(4-np.pi)**2+len(squarex)*(0-np.pi)**2\n",
    "\n",
    "stddev = np.sqrt(stnd).round(3)\n",
    "stddev"
   ]
  },
  {
   "cell_type": "markdown",
   "metadata": {},
   "source": [
    "# Estimating Confidence Level  \n",
    "\n"
   ]
  },
  {
   "cell_type": "code",
   "execution_count": null,
   "metadata": {},
   "outputs": [],
   "source": []
  },
  {
   "cell_type": "markdown",
   "metadata": {},
   "source": [
    "# Monte Carlo Integration\n",
    "\n",
    "Monte Carlo methods are numerical techniques which rely on random sampling to approximate their results . Monte Carlo Integration applies this process to numerical estimation of integrals.Monte Carlo integration is a technique for numerical integration using random numbers. It is a particular Monte Carlo method that numerically computes a definite integral.Monte Carlo randomly chooses points at which the integrand is evaluated. This method is particularly useful for higher-dimensional integrals.  \n",
    "\n",
    "So, in simple words it can be said that Monte Carlo Integration is used for definite integration ."
   ]
  },
  {
   "cell_type": "markdown",
   "metadata": {},
   "source": [
    "# How is Monte Carlo Integration Done ?\n",
    "\n",
    "Here we will look at the method of doing Monte Carlo .  \n",
    "\n",
    "In order to integrate a function over a complicated domain D, Monte Carlo integration picks random points over some simple domain $D^{'}$ which is a superset of D, checks whether each point is within D, and estimates the area of D (volume, n-dimensional content, etc.) as the area of $D^{'}$ multiplied by the fraction of points falling within D.  \n",
    "\n",
    "Now, we pick up N randomly distributed points $x_{1},x_{2},x_{3},......x_{N},$ in multidimensional volume V to determine the integral of function f in this volume gives a result  \n",
    "\n",
    "$\\int_ f dv \\approx V<f>\\pm V \\sqrt \\frac{<f^{2}>-<f>^{2}}{N}$  \n",
    "\n",
    "where, \n",
    "\n",
    "$<f> \\equiv \\frac{1}{N}\\sum_{i=1}^{N}f(x_{i})$\n",
    "\n",
    "$<f^{2}>\\equiv \\frac{1}{N}\\sum_{i=1}^{N}f^{2}(x_{i})$  \n",
    "\n",
    "Now , we will look at the implementation of Monte Carlo . We take $\\sin x$ as the function for integration from 0 to $\\pi$ ."
   ]
  },
  {
   "cell_type": "code",
   "execution_count": null,
   "metadata": {},
   "outputs": [],
   "source": [
    "# Monte Carlo Integration \n",
    "\n",
    "from scipy import random \n",
    "import numpy as np\n",
    "\n",
    "#Limits of integration \n",
    "a = 0\n",
    "b = np.pi\n",
    "\n",
    "# No of random variables\n",
    "N=1000\n",
    "\n",
    "# Setting up random variable\n",
    "xrand = random.uniform(a,b,N)\n",
    "\n",
    "# Implementing the given function of integration\n",
    "def func(x):\n",
    "    return np.sin(x)\n",
    "integral =0.0 \n",
    "\n",
    "for i in range(N):\n",
    "    integral += func(xrand[i])\n",
    "\n",
    "# Final answer of integration\n",
    "answer = (b-a)/float(N)*integral\n",
    "print('The integral from o to pi of sin(x):' ,answer)"
   ]
  },
  {
   "cell_type": "code",
   "execution_count": null,
   "metadata": {},
   "outputs": [],
   "source": [
    "# Visualising the answer using Monte Carlo Integration\n",
    "\n",
    "from scipy import random \n",
    "import numpy as np\n",
    "import matplotlib.pyplot as plt\n",
    "\n",
    "#Limits of integration \n",
    "a = 0\n",
    "b = np.pi\n",
    "\n",
    "# No of random variables\n",
    "N=1000\n",
    "\n",
    "areas =[]\n",
    "for i in range(N):\n",
    "    \n",
    "# Setting up random variable\n",
    "    xrand = random.uniform(a,b,N)\n",
    "\n",
    "# Implementing the given function of integration\n",
    "    def func(x):\n",
    "        return np.sin(x)\n",
    "    integral =0.0 \n",
    "\n",
    "    for i in range(N):\n",
    "        integral += func(xrand[i])\n",
    "\n",
    "# Final answer of integration\n",
    "    answer = (b-a)/float(N)*integral\n",
    "    areas.append(answer)\n",
    "\n",
    "plt.title('Distribution of Areas Calculated')\n",
    "plt.hist(areas,bins=30, ec = 'black')\n",
    "plt.xlabel('Areas')"
   ]
  },
  {
   "cell_type": "code",
   "execution_count": null,
   "metadata": {},
   "outputs": [],
   "source": []
  }
 ],
 "metadata": {
  "kernelspec": {
   "display_name": "Python 3",
   "language": "python",
   "name": "python3"
  },
  "language_info": {
   "codemirror_mode": {
    "name": "ipython",
    "version": 3
   },
   "file_extension": ".py",
   "mimetype": "text/x-python",
   "name": "python",
   "nbconvert_exporter": "python",
   "pygments_lexer": "ipython3",
   "version": "3.8.3"
  }
 },
 "nbformat": 4,
 "nbformat_minor": 4
}
