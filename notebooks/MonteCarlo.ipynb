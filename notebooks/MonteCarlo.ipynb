{
 "cells": [
  {
   "cell_type": "markdown",
   "metadata": {},
   "source": [
    "# Monte Carlo Integration\n",
    "\n",
    "Monte Carlo methods are numerical techniques which rely on random sampling to approximate their results . Monte Carlo Integration applies this process to numerical estimation of integrals.Monte Carlo integration is a technique for numerical integration using random numbers. It is a particular Monte Carlo method that numerically computes a definite integral.Monte Carlo randomly chooses points at which the integrand is evaluated. This method is particularly useful for higher-dimensional integrals.  \n",
    "\n",
    "So, in simple words it can be said that Monte Carlo Integration is used for definite integration ."
   ]
  },
  {
   "cell_type": "markdown",
   "metadata": {},
   "source": [
    "# How is Monte Carlo Integration Done ?\n",
    "\n",
    "Here we will look at the method of doing Monte Carlo .  \n",
    "\n",
    "In order to integrate a function over a complicated domain D, Monte Carlo integration picks random points over some simple domain $D^{'}$ which is a superset of D, checks whether each point is within D, and estimates the area of D (volume, n-dimensional content, etc.) as the area of $D^{'}$ multiplied by the fraction of points falling within D.  \n",
    "\n",
    "Now, we pick up N randomly distributed points $x_{1},x_{2},x_{3},......x_{N},$ in multidimensional volume V to determine the integral of function f in this volume gives a result  \n",
    "\n",
    "$\\int_ f dv \\approx V<f>\\pm V \\sqrt \\frac{<f^{2}>-<f>^{2}}{N}$  \n",
    "\n",
    "where, \n",
    "\n",
    "$<f> \\equiv \\frac{1}{N}\\sum_{i=1}^{N}f(x_{i})$\n",
    "\n",
    "$<f^{2}>\\equiv \\frac{1}{N}\\sum_{i=1}^{N}f^{2}(x_{i})$  \n",
    "\n",
    "Now , we will look at the implementation of Monte Carlo . We take $\\sin x$ as the function for integration from 0 to $\\pi$ ."
   ]
  },
  {
   "cell_type": "code",
   "execution_count": 4,
   "metadata": {},
   "outputs": [
    {
     "name": "stdout",
     "output_type": "stream",
     "text": [
      "The integral from o to pi of sin(x): 1.9563792086246337\n"
     ]
    }
   ],
   "source": [
    "# Monte Carlo Integration \n",
    "\n",
    "from scipy import random \n",
    "import numpy as np\n",
    "\n",
    "#Limits of integration \n",
    "a = 0\n",
    "b = np.pi\n",
    "\n",
    "# No of random variables\n",
    "N=1000\n",
    "\n",
    "# Setting up random variable\n",
    "xrand = random.uniform(a,b,N)\n",
    "\n",
    "# Implementing the given function of integration\n",
    "def func(x):\n",
    "    return np.sin(x)\n",
    "integral =0.0 \n",
    "\n",
    "for i in range(N):\n",
    "    integral += func(xrand[i])\n",
    "\n",
    "# Final answer of integration\n",
    "answer = (b-a)/float(N)*integral\n",
    "print('The integral from o to pi of sin(x):' ,answer)"
   ]
  },
  {
   "cell_type": "code",
   "execution_count": 5,
   "metadata": {},
   "outputs": [
    {
     "data": {
      "text/plain": [
       "Text(0.5, 0, 'Areas')"
      ]
     },
     "execution_count": 5,
     "metadata": {},
     "output_type": "execute_result"
    },
    {
     "data": {
      "image/png": "[encoded data removed]",
      "text/plain": [
       "<Figure size 432x288 with 1 Axes>"
      ]
     },
     "metadata": {
      "needs_background": "light"
     },
     "output_type": "display_data"
    }
   ],
   "source": [
    "# Visualising the answer using Monte Carlo Integration\n",
    "\n",
    "from scipy import random \n",
    "import numpy as np\n",
    "import matplotlib.pyplot as plt\n",
    "\n",
    "#Limits of integration \n",
    "a = 0\n",
    "b = np.pi\n",
    "\n",
    "# No of random variables\n",
    "N=1000\n",
    "\n",
    "areas =[]\n",
    "for i in range(N):\n",
    "    \n",
    "# Setting up random variable\n",
    "    xrand = random.uniform(a,b,N)\n",
    "\n",
    "# Implementing the given function of integration\n",
    "    def func(x):\n",
    "        return np.sin(x)\n",
    "    integral =0.0 \n",
    "\n",
    "    for i in range(N):\n",
    "        integral += func(xrand[i])\n",
    "\n",
    "# Final answer of integration\n",
    "    answer = (b-a)/float(N)*integral\n",
    "    areas.append(answer)\n",
    "\n",
    "plt.title('Distribution of Areas Calculated')\n",
    "plt.hist(areas,bins=30, ec = 'black')\n",
    "plt.xlabel('Areas')"
   ]
  },
  {
   "cell_type": "code",
   "execution_count": null,
   "metadata": {},
   "outputs": [],
   "source": []
  }
 ],
 "metadata": {
  "kernelspec": {
   "display_name": "Python 3",
   "language": "python",
   "name": "python3"
  },
  "language_info": {
   "codemirror_mode": {
    "name": "ipython",
    "version": 3
   },
   "file_extension": ".py",
   "mimetype": "text/x-python",
   "name": "python",
   "nbconvert_exporter": "python",
   "pygments_lexer": "ipython3",
   "version": "3.8.3"
  }
 },
 "nbformat": 4,
 "nbformat_minor": 4
}
