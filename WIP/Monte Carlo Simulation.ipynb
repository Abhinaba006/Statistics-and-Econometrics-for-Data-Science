{
 "cells": [
  {
   "cell_type": "markdown",
   "metadata": {},
   "source": [
    "# MONTE CARLO METHODS OF INFERENCE"
   ]
  },
  {
   "cell_type": "markdown",
   "metadata": {},
   "source": [
    "#### In this section we will see how we can simulate random sequence of numbers using MONTE CARLO SIMULATION."
   ]
  },
  {
   "cell_type": "markdown",
   "metadata": {},
   "source": [
    "The value of pi can be calculated using the monte carlo simulation. In this part first we will generate random tuples of numbers using random function in numpy library into two separate array array_x and array_y. \n",
    "The value of pi will be area of circle of radius r divided by area of square with side r, same as the radius of the circle.\n",
    "\n",
    "The value of  $$ pi ( \\pi ) = \\frac{area(circle)}{area(square)} \\\\ $$"
   ]
  },
  {
   "cell_type": "code",
   "execution_count": 2,
   "metadata": {},
   "outputs": [],
   "source": [
    "#Importing all the necessary library.\n",
    "import numpy as np\n",
    "import pandas as pd\n",
    "import matplotlib.pyplot as plt\n",
    "import seaborn as sns\n",
    "%matplotlib inline"
   ]
  },
  {
   "cell_type": "markdown",
   "metadata": {},
   "source": [
    "Generating random tuples in the first quadrant between x=0 to x=5 and y=0 to y=5. Using random function from numpy library we will get random tuples or point evenly distributed in the square of dimensions 5 X 5.\n",
    "Now we have assigned a square of side 2 units with one side at origin inside this region and a circle of radius 2 units centered at (2,2). If a point falls in the square region then the value of square_count(s) increase by 1 and whenever a point falls in circular region the value of circular_count(c) increases by 1. \n",
    "'s' is proportional to the area of square and 'c' is proportional to area of circle.\n",
    "Therefore the ratio of circular area and square area i.e. c/s gives the value of pi.\n",
    "$$ pi ( \\pi ) = \\frac{c}{s} =\\frac{\\pi a^2}{a^2}= \\pi \\\\ $$"
   ]
  },
  {
   "cell_type": "code",
   "execution_count": 18,
   "metadata": {},
   "outputs": [],
   "source": [
    "#generating and storing random number in range (0,5) in two separate list so that each tuple (array_x[i], array_y[i])\n",
    "#gives a random point in the defined square region.\n",
    "array_x = np.random.rand(10000)\n",
    "array_y = np.random.rand(10000)\n",
    "array_x = array_x * 5\n",
    "array_y = array_y * 5\n"
   ]
  },
  {
   "cell_type": "code",
   "execution_count": 20,
   "metadata": {},
   "outputs": [
    {
     "data": {
      "text/plain": [
       "array([4.42890686, 4.92913044, 0.81528105, ..., 4.91592682, 2.00402508,\n",
       "       4.69855032])"
      ]
     },
     "execution_count": 20,
     "metadata": {},
     "output_type": "execute_result"
    }
   ],
   "source": [
    "#A look into array_x\n",
    "array_x"
   ]
  },
  {
   "cell_type": "code",
   "execution_count": 21,
   "metadata": {},
   "outputs": [
    {
     "data": {
      "text/plain": [
       "array([0.76251225, 0.73854336, 0.98199909, ..., 0.78046047, 4.27236299,\n",
       "       3.25731217])"
      ]
     },
     "execution_count": 21,
     "metadata": {},
     "output_type": "execute_result"
    }
   ],
   "source": [
    "#A look into array_y\n",
    "array_y"
   ]
  },
  {
   "cell_type": "code",
   "execution_count": 22,
   "metadata": {},
   "outputs": [],
   "source": [
    "#Here we create a list which stores the value of the ratio of c and s after every iteration. I have initialised\n",
    "#the value of s and c to 1 so that we don't get any infinite value.\n",
    "#the condition for the point to belong in square region and circular region is checked in every iteration and \n",
    "#accordingly the value of s and c is changed.\n",
    "pi_val = []\n",
    "s=1\n",
    "c=1\n",
    "for i in range(10000):\n",
    "   \n",
    "    if array_x[i]<2 and array_y[i]<2:\n",
    "        s=s+1\n",
    "    if ((array_x[i]-2)*(array_x[i]-2)+(array_y[i]-2)*(array_y[i]-2))<4:\n",
    "        c=c+1\n",
    "    pi=c/s\n",
    "    pi_val.append(pi)\n",
    "    "
   ]
  },
  {
   "cell_type": "code",
   "execution_count": 29,
   "metadata": {},
   "outputs": [
    {
     "data": {
      "text/plain": [
       "(array([4.000e+00, 0.000e+00, 0.000e+00, 0.000e+00, 0.000e+00, 0.000e+00,\n",
       "        0.000e+00, 0.000e+00, 0.000e+00, 0.000e+00, 2.000e+00, 0.000e+00,\n",
       "        0.000e+00, 0.000e+00, 0.000e+00, 0.000e+00, 0.000e+00, 0.000e+00,\n",
       "        0.000e+00, 0.000e+00, 1.000e+00, 0.000e+00, 0.000e+00, 0.000e+00,\n",
       "        0.000e+00, 0.000e+00, 0.000e+00, 1.000e+00, 0.000e+00, 3.000e+00,\n",
       "        7.000e+00, 2.000e+00, 4.000e+00, 1.000e+00, 1.000e+00, 6.100e+01,\n",
       "        3.460e+02, 5.880e+02, 1.368e+03, 2.069e+03, 2.278e+03, 2.972e+03,\n",
       "        1.160e+02, 3.400e+01, 2.300e+01, 3.500e+01, 2.600e+01, 1.300e+01,\n",
       "        9.000e+00, 1.000e+00, 7.000e+00, 4.000e+00, 0.000e+00, 2.000e+00,\n",
       "        0.000e+00, 0.000e+00, 1.000e+00, 0.000e+00, 0.000e+00, 0.000e+00,\n",
       "        3.000e+00, 0.000e+00, 0.000e+00, 0.000e+00, 2.000e+00, 0.000e+00,\n",
       "        1.000e+00, 0.000e+00, 0.000e+00, 0.000e+00, 4.000e+00, 0.000e+00,\n",
       "        0.000e+00, 1.000e+00, 0.000e+00, 2.000e+00, 0.000e+00, 0.000e+00,\n",
       "        0.000e+00, 0.000e+00, 2.000e+00, 0.000e+00, 0.000e+00, 0.000e+00,\n",
       "        0.000e+00, 0.000e+00, 1.000e+00, 0.000e+00, 0.000e+00, 0.000e+00,\n",
       "        0.000e+00, 0.000e+00, 0.000e+00, 4.000e+00, 0.000e+00, 0.000e+00,\n",
       "        0.000e+00, 0.000e+00, 0.000e+00, 1.000e+00]),\n",
       " array([1.  , 1.05, 1.1 , 1.15, 1.2 , 1.25, 1.3 , 1.35, 1.4 , 1.45, 1.5 ,\n",
       "        1.55, 1.6 , 1.65, 1.7 , 1.75, 1.8 , 1.85, 1.9 , 1.95, 2.  , 2.05,\n",
       "        2.1 , 2.15, 2.2 , 2.25, 2.3 , 2.35, 2.4 , 2.45, 2.5 , 2.55, 2.6 ,\n",
       "        2.65, 2.7 , 2.75, 2.8 , 2.85, 2.9 , 2.95, 3.  , 3.05, 3.1 , 3.15,\n",
       "        3.2 , 3.25, 3.3 , 3.35, 3.4 , 3.45, 3.5 , 3.55, 3.6 , 3.65, 3.7 ,\n",
       "        3.75, 3.8 , 3.85, 3.9 , 3.95, 4.  , 4.05, 4.1 , 4.15, 4.2 , 4.25,\n",
       "        4.3 , 4.35, 4.4 , 4.45, 4.5 , 4.55, 4.6 , 4.65, 4.7 , 4.75, 4.8 ,\n",
       "        4.85, 4.9 , 4.95, 5.  , 5.05, 5.1 , 5.15, 5.2 , 5.25, 5.3 , 5.35,\n",
       "        5.4 , 5.45, 5.5 , 5.55, 5.6 , 5.65, 5.7 , 5.75, 5.8 , 5.85, 5.9 ,\n",
       "        5.95, 6.  ]),\n",
       " <BarContainer object of 100 artists>)"
      ]
     },
     "execution_count": 29,
     "metadata": {},
     "output_type": "execute_result"
    },
    {
     "data": {
      "image/png": "[encoded data removed]",
      "text/plain": [
       "<Figure size 720x432 with 1 Axes>"
      ]
     },
     "metadata": {
      "needs_background": "light"
     },
     "output_type": "display_data"
    }
   ],
   "source": [
    "#Here I have plotted the histogram which shows that maximum value in the list pi_val\n",
    "#lie at the expected value of pie i.e 3.14.\n",
    "plt.figure(figsize=(10,6))\n",
    "plt.hist(pi_val, bins = 100)"
   ]
  },
  {
   "cell_type": "code",
   "execution_count": 31,
   "metadata": {},
   "outputs": [
    {
     "data": {
      "text/plain": [
       "[<matplotlib.lines.Line2D at 0x7f9f3e0bbd30>]"
      ]
     },
     "execution_count": 31,
     "metadata": {},
     "output_type": "execute_result"
    },
    {
     "data": {
      "image/png": "[encoded data removed]",
      "text/plain": [
       "<Figure size 720x432 with 1 Axes>"
      ]
     },
     "metadata": {
      "needs_background": "light"
     },
     "output_type": "display_data"
    }
   ],
   "source": [
    "#Here is the main observation which shows that as the iteration increases the deviation in the value of pi decreases\n",
    "#and converges to 3.14.\n",
    "plt.figure(figsize=(10,6))\n",
    "y = np.arange(1, 10001)\n",
    "plt.plot(y, pi_val)"
   ]
  },
  {
   "cell_type": "code",
   "execution_count": 33,
   "metadata": {},
   "outputs": [
    {
     "name": "stdout",
     "output_type": "stream",
     "text": [
      "3.095592799503414\n"
     ]
    }
   ],
   "source": [
    "#The value of pi after 10000 iteration \n",
    "pi = pi_val[9999]\n",
    "print(pi)"
   ]
  },
  {
   "cell_type": "code",
   "execution_count": null,
   "metadata": {},
   "outputs": [],
   "source": [
    "#which is very close to 3.14."
   ]
  }
 ],
 "metadata": {
  "kernelspec": {
   "display_name": "Python 3",
   "language": "python",
   "name": "python3"
  },
  "language_info": {
   "codemirror_mode": {
    "name": "ipython",
    "version": 3
   },
   "file_extension": ".py",
   "mimetype": "text/x-python",
   "name": "python",
   "nbconvert_exporter": "python",
   "pygments_lexer": "ipython3",
   "version": "3.8.5"
  }
 },
 "nbformat": 4,
 "nbformat_minor": 4
}
